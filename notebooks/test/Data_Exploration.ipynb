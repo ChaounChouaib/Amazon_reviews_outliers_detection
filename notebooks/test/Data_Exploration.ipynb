{
 "cells": [
  {
   "cell_type": "markdown",
   "metadata": {},
   "source": [
    "# Stats by category"
   ]
  },
  {
   "cell_type": "code",
   "execution_count": 2,
   "metadata": {},
   "outputs": [],
   "source": [
    "import pandas as pd"
   ]
  },
  {
   "cell_type": "markdown",
   "metadata": {},
   "source": [
    "# Analyse data\n",
    "\n",
    "## MetaData\n",
    "\n",
    "Focus on distribution by year, and select a range of products that will be interessting"
   ]
  },
  {
   "cell_type": "markdown",
   "metadata": {},
   "source": [
    "### Subscription Boxes"
   ]
  },
  {
   "cell_type": "code",
   "execution_count": 3,
   "metadata": {},
   "outputs": [
    {
     "data": {
      "text/html": [
       "<div>\n",
       "<style scoped>\n",
       "    .dataframe tbody tr th:only-of-type {\n",
       "        vertical-align: middle;\n",
       "    }\n",
       "\n",
       "    .dataframe tbody tr th {\n",
       "        vertical-align: top;\n",
       "    }\n",
       "\n",
       "    .dataframe thead th {\n",
       "        text-align: right;\n",
       "    }\n",
       "</style>\n",
       "<table border=\"1\" class=\"dataframe\">\n",
       "  <thead>\n",
       "    <tr style=\"text-align: right;\">\n",
       "      <th></th>\n",
       "      <th>main_category</th>\n",
       "      <th>title</th>\n",
       "      <th>average_rating</th>\n",
       "      <th>rating_number</th>\n",
       "      <th>features</th>\n",
       "      <th>description</th>\n",
       "      <th>price</th>\n",
       "      <th>images</th>\n",
       "      <th>videos</th>\n",
       "      <th>store</th>\n",
       "      <th>categories</th>\n",
       "      <th>details</th>\n",
       "      <th>parent_asin</th>\n",
       "      <th>bought_together</th>\n",
       "    </tr>\n",
       "  </thead>\n",
       "  <tbody>\n",
       "    <tr>\n",
       "      <th>0</th>\n",
       "      <td>SUBSCRIPTION BOXES</td>\n",
       "      <td>Loved Again Media - Movie Subscription Box - 1...</td>\n",
       "      <td>4.1</td>\n",
       "      <td>75</td>\n",
       "      <td>[10 gently used DVDs delivered to your door ev...</td>\n",
       "      <td>[]</td>\n",
       "      <td>NaN</td>\n",
       "      <td>[{'thumb': 'https://m.media-amazon.com/images/...</td>\n",
       "      <td>[]</td>\n",
       "      <td>Loved Again Media</td>\n",
       "      <td>[]</td>\n",
       "      <td>{}</td>\n",
       "      <td>B08W5BSH6V</td>\n",
       "      <td>NaN</td>\n",
       "    </tr>\n",
       "    <tr>\n",
       "      <th>1</th>\n",
       "      <td>SUBSCRIPTION BOXES</td>\n",
       "      <td>Bravado Music Icons T-Shirt Club Subscription ...</td>\n",
       "      <td>3.9</td>\n",
       "      <td>329</td>\n",
       "      <td>[WHAT IS T-SHIRT CLUB? Created for the ultimat...</td>\n",
       "      <td>[]</td>\n",
       "      <td>NaN</td>\n",
       "      <td>[{'thumb': 'https://m.media-amazon.com/images/...</td>\n",
       "      <td>[]</td>\n",
       "      <td>Bravado Music Icons</td>\n",
       "      <td>[]</td>\n",
       "      <td>{}</td>\n",
       "      <td>B08MV3QHL8</td>\n",
       "      <td>NaN</td>\n",
       "    </tr>\n",
       "    <tr>\n",
       "      <th>2</th>\n",
       "      <td>SUBSCRIPTION BOXES</td>\n",
       "      <td>Succulents Box - 2 Succulents 2 Clay Pots Subs...</td>\n",
       "      <td>3.8</td>\n",
       "      <td>928</td>\n",
       "      <td>[You'll receive a box of succulents in clay po...</td>\n",
       "      <td>[]</td>\n",
       "      <td>NaN</td>\n",
       "      <td>[{'thumb': 'https://m.media-amazon.com/images/...</td>\n",
       "      <td>[]</td>\n",
       "      <td>SUCCULENTS BOX</td>\n",
       "      <td>[]</td>\n",
       "      <td>{}</td>\n",
       "      <td>B084KPB9K8</td>\n",
       "      <td>NaN</td>\n",
       "    </tr>\n",
       "    <tr>\n",
       "      <th>3</th>\n",
       "      <td>SUBSCRIPTION BOXES</td>\n",
       "      <td>The Legend of Vox Machina T-Shirt Club Subscri...</td>\n",
       "      <td>4.4</td>\n",
       "      <td>47</td>\n",
       "      <td>[WHAT IS T-SHIRT CLUB? Created for the ultimat...</td>\n",
       "      <td>[]</td>\n",
       "      <td>NaN</td>\n",
       "      <td>[{'thumb': 'https://m.media-amazon.com/images/...</td>\n",
       "      <td>[]</td>\n",
       "      <td>The Legend of Vox Machina</td>\n",
       "      <td>[]</td>\n",
       "      <td>{}</td>\n",
       "      <td>B09YYGB4BH</td>\n",
       "      <td>NaN</td>\n",
       "    </tr>\n",
       "    <tr>\n",
       "      <th>4</th>\n",
       "      <td>SUBSCRIPTION BOXES</td>\n",
       "      <td>50 States Of Mine - Premium Subscription Box: ...</td>\n",
       "      <td>4.6</td>\n",
       "      <td>6</td>\n",
       "      <td>[6-10 quality curated items from a different s...</td>\n",
       "      <td>[]</td>\n",
       "      <td>NaN</td>\n",
       "      <td>[{'thumb': 'https://m.media-amazon.com/images/...</td>\n",
       "      <td>[]</td>\n",
       "      <td>50 States Of Mine</td>\n",
       "      <td>[]</td>\n",
       "      <td>{}</td>\n",
       "      <td>B092MLYDGR</td>\n",
       "      <td>NaN</td>\n",
       "    </tr>\n",
       "  </tbody>\n",
       "</table>\n",
       "</div>"
      ],
      "text/plain": [
       "        main_category                                              title  \\\n",
       "0  SUBSCRIPTION BOXES  Loved Again Media - Movie Subscription Box - 1...   \n",
       "1  SUBSCRIPTION BOXES  Bravado Music Icons T-Shirt Club Subscription ...   \n",
       "2  SUBSCRIPTION BOXES  Succulents Box - 2 Succulents 2 Clay Pots Subs...   \n",
       "3  SUBSCRIPTION BOXES  The Legend of Vox Machina T-Shirt Club Subscri...   \n",
       "4  SUBSCRIPTION BOXES  50 States Of Mine - Premium Subscription Box: ...   \n",
       "\n",
       "   average_rating  rating_number  \\\n",
       "0             4.1             75   \n",
       "1             3.9            329   \n",
       "2             3.8            928   \n",
       "3             4.4             47   \n",
       "4             4.6              6   \n",
       "\n",
       "                                            features description  price  \\\n",
       "0  [10 gently used DVDs delivered to your door ev...          []    NaN   \n",
       "1  [WHAT IS T-SHIRT CLUB? Created for the ultimat...          []    NaN   \n",
       "2  [You'll receive a box of succulents in clay po...          []    NaN   \n",
       "3  [WHAT IS T-SHIRT CLUB? Created for the ultimat...          []    NaN   \n",
       "4  [6-10 quality curated items from a different s...          []    NaN   \n",
       "\n",
       "                                              images videos  \\\n",
       "0  [{'thumb': 'https://m.media-amazon.com/images/...     []   \n",
       "1  [{'thumb': 'https://m.media-amazon.com/images/...     []   \n",
       "2  [{'thumb': 'https://m.media-amazon.com/images/...     []   \n",
       "3  [{'thumb': 'https://m.media-amazon.com/images/...     []   \n",
       "4  [{'thumb': 'https://m.media-amazon.com/images/...     []   \n",
       "\n",
       "                       store categories details parent_asin  bought_together  \n",
       "0          Loved Again Media         []      {}  B08W5BSH6V              NaN  \n",
       "1        Bravado Music Icons         []      {}  B08MV3QHL8              NaN  \n",
       "2             SUCCULENTS BOX         []      {}  B084KPB9K8              NaN  \n",
       "3  The Legend of Vox Machina         []      {}  B09YYGB4BH              NaN  \n",
       "4          50 States Of Mine         []      {}  B092MLYDGR              NaN  "
      ]
     },
     "execution_count": 3,
     "metadata": {},
     "output_type": "execute_result"
    }
   ],
   "source": [
    "import pandas as pd\n",
    "\n",
    "df_meta_SubBox = pd.read_json(\"data/meta_Subscription_Boxes.jsonl\", lines=True)\n",
    "df_meta_SubBox.head()"
   ]
  },
  {
   "cell_type": "code",
   "execution_count": 4,
   "metadata": {},
   "outputs": [
    {
     "data": {
      "text/plain": [
       "main_category       object\n",
       "title               object\n",
       "average_rating     float64\n",
       "rating_number        int64\n",
       "features            object\n",
       "description         object\n",
       "price              float64\n",
       "images              object\n",
       "videos              object\n",
       "store               object\n",
       "categories          object\n",
       "details             object\n",
       "parent_asin         object\n",
       "bought_together    float64\n",
       "dtype: object"
      ]
     },
     "execution_count": 4,
     "metadata": {},
     "output_type": "execute_result"
    }
   ],
   "source": [
    "# Checking data type\n",
    "df_meta_SubBox.dtypes"
   ]
  },
  {
   "cell_type": "code",
   "execution_count": 5,
   "metadata": {},
   "outputs": [
    {
     "data": {
      "text/plain": [
       "main_category        0\n",
       "title                0\n",
       "average_rating       0\n",
       "rating_number        0\n",
       "features             0\n",
       "description          0\n",
       "price              641\n",
       "images               0\n",
       "videos               0\n",
       "store                1\n",
       "categories           0\n",
       "details              0\n",
       "parent_asin          0\n",
       "bought_together    641\n",
       "dtype: int64"
      ]
     },
     "execution_count": 5,
     "metadata": {},
     "output_type": "execute_result"
    }
   ],
   "source": [
    "# Checking Missing Values\n",
    "df_meta_SubBox.isna().sum()"
   ]
  },
  {
   "cell_type": "markdown",
   "metadata": {},
   "source": [
    "#### Notes :\n",
    "\n",
    "Price and bought_together are to be deleted"
   ]
  },
  {
   "cell_type": "code",
   "execution_count": 6,
   "metadata": {},
   "outputs": [],
   "source": [
    "df_meta_SubBox.drop([\"price\",\"bought_together\"], axis=1, inplace=True)"
   ]
  },
  {
   "cell_type": "markdown",
   "metadata": {},
   "source": [
    "Yet other column has a different type that doesn't get detected by the function \"isna\", which are the lists, so the following is a speciale analysis to evaluate them"
   ]
  },
  {
   "cell_type": "code",
   "execution_count": 7,
   "metadata": {},
   "outputs": [
    {
     "name": "stdout",
     "output_type": "stream",
     "text": [
      "All lines count :  641\n",
      "description null values :  641  Null Pourcentage 100%\n",
      "videos null values :  641  Null Pourcentage 100%\n",
      "details null values :  600  Null Pourcentage 94%\n",
      "categories null values :  641  Null Pourcentage 100%\n",
      "features null values :  19  Null Pourcentage 3%\n",
      "images null values :  0  Null Pourcentage 0%\n"
     ]
    }
   ],
   "source": [
    "print(\"All lines count : \", tot:=df_meta_SubBox.shape[0]) \n",
    "print(\"description null values : \", count:=df_meta_SubBox.description.apply(lambda x: 1 if len(x) == 0 else 0).sum(),f\" Null Pourcentage {round(count*100/tot)}%\")\n",
    "print(\"videos null values : \", count:=df_meta_SubBox.videos.apply(lambda x: 1 if len(x) == 0 else 0).sum(),f\" Null Pourcentage {round(count*100/tot)}%\")\n",
    "print(\"details null values : \", count:=df_meta_SubBox.details.apply(lambda x: 1 if len(x) == 0 else 0).sum(),f\" Null Pourcentage {round(count*100/tot)}%\")\n",
    "print(\"categories null values : \", count:=df_meta_SubBox.categories.apply(lambda x: 1 if len(x) == 0 else 0).sum(),f\" Null Pourcentage {round(count*100/tot)}%\")\n",
    "print(\"features null values : \", count:=df_meta_SubBox.features.apply(lambda x: 1 if len(x) == 0 else 0).sum(),f\" Null Pourcentage {round(count*100/tot)}%\")\n",
    "print(\"images null values : \", count:=df_meta_SubBox.images.apply(lambda x: 1 if len(x) == 0 else 0).sum(),f\" Null Pourcentage {round(count*100/tot)}%\")"
   ]
  },
  {
   "cell_type": "markdown",
   "metadata": {},
   "source": [
    "4 out of 6 these feature has approximatly 100% of missing values To be deleted, except images and features"
   ]
  },
  {
   "cell_type": "code",
   "execution_count": 8,
   "metadata": {},
   "outputs": [],
   "source": [
    "# To be deleted\n",
    "df_meta_SubBox.drop([\"description\",\"videos\",\"details\",\"categories\"], axis=1, inplace=True)"
   ]
  },
  {
   "cell_type": "code",
   "execution_count": 9,
   "metadata": {},
   "outputs": [
    {
     "data": {
      "text/plain": [
       "<Axes: ylabel='Density'>"
      ]
     },
     "execution_count": 9,
     "metadata": {},
     "output_type": "execute_result"
    },
    {
     "data": {
      "image/png": "[encoded data removed]",
      "text/plain": [
       "<Figure size 640x480 with 1 Axes>"
      ]
     },
     "metadata": {},
     "output_type": "display_data"
    }
   ],
   "source": [
    "# Images\n",
    "df_meta_SubBox.images.apply(len).plot(kind=\"density\")"
   ]
  },
  {
   "cell_type": "markdown",
   "metadata": {},
   "source": [
    "Apparently this feature seems interesting but in a different format, because there is an opportunity to appy computer vision to retrieve info from this feature. But we will get limited to the number of images per product. [This feature might get deleted after correlation analysis]"
   ]
  },
  {
   "cell_type": "code",
   "execution_count": 10,
   "metadata": {},
   "outputs": [],
   "source": [
    "df_meta_SubBox.images = df_meta_SubBox.images.apply(len)"
   ]
  },
  {
   "cell_type": "code",
   "execution_count": 11,
   "metadata": {},
   "outputs": [
    {
     "data": {
      "text/plain": [
       "<Axes: ylabel='Density'>"
      ]
     },
     "execution_count": 11,
     "metadata": {},
     "output_type": "execute_result"
    },
    {
     "data": {
      "image/png": "[encoded data removed]",
      "text/plain": [
       "<Figure size 640x480 with 1 Axes>"
      ]
     },
     "metadata": {},
     "output_type": "display_data"
    }
   ],
   "source": [
    "# features\n",
    "df_meta_SubBox.features.apply(len).plot(kind=\"density\")"
   ]
  },
  {
   "cell_type": "code",
   "execution_count": 12,
   "metadata": {},
   "outputs": [
    {
     "data": {
      "text/plain": [
       "<Axes: ylabel='Density'>"
      ]
     },
     "execution_count": 12,
     "metadata": {},
     "output_type": "execute_result"
    },
    {
     "data": {
      "image/png": "[encoded data removed]",
      "text/plain": [
       "<Figure size 640x480 with 1 Axes>"
      ]
     },
     "metadata": {},
     "output_type": "display_data"
    }
   ],
   "source": [
    "# Calculating number of tokens per row\n",
    "df_meta_SubBox.features.apply(lambda l:sum([len(x) for x in l])).plot(kind=\"density\")  # the len can be replaced by a special function for word counting"
   ]
  },
  {
   "cell_type": "code",
   "execution_count": 13,
   "metadata": {},
   "outputs": [],
   "source": [
    "# Processing the text format into one str for future embedding\n",
    "df_meta_SubBox.features = df_meta_SubBox.features.apply(lambda x:' '.join(x))"
   ]
  },
  {
   "cell_type": "code",
   "execution_count": 14,
   "metadata": {},
   "outputs": [
    {
     "data": {
      "text/html": [
       "<div>\n",
       "<style scoped>\n",
       "    .dataframe tbody tr th:only-of-type {\n",
       "        vertical-align: middle;\n",
       "    }\n",
       "\n",
       "    .dataframe tbody tr th {\n",
       "        vertical-align: top;\n",
       "    }\n",
       "\n",
       "    .dataframe thead th {\n",
       "        text-align: right;\n",
       "    }\n",
       "</style>\n",
       "<table border=\"1\" class=\"dataframe\">\n",
       "  <thead>\n",
       "    <tr style=\"text-align: right;\">\n",
       "      <th></th>\n",
       "      <th>main_category</th>\n",
       "      <th>title</th>\n",
       "      <th>average_rating</th>\n",
       "      <th>rating_number</th>\n",
       "      <th>features</th>\n",
       "      <th>images</th>\n",
       "      <th>store</th>\n",
       "      <th>parent_asin</th>\n",
       "    </tr>\n",
       "  </thead>\n",
       "  <tbody>\n",
       "    <tr>\n",
       "      <th>0</th>\n",
       "      <td>SUBSCRIPTION BOXES</td>\n",
       "      <td>Loved Again Media - Movie Subscription Box - 1...</td>\n",
       "      <td>4.1</td>\n",
       "      <td>75</td>\n",
       "      <td>10 gently used DVDs delivered to your door eve...</td>\n",
       "      <td>7</td>\n",
       "      <td>Loved Again Media</td>\n",
       "      <td>B08W5BSH6V</td>\n",
       "    </tr>\n",
       "    <tr>\n",
       "      <th>1</th>\n",
       "      <td>SUBSCRIPTION BOXES</td>\n",
       "      <td>Bravado Music Icons T-Shirt Club Subscription ...</td>\n",
       "      <td>3.9</td>\n",
       "      <td>329</td>\n",
       "      <td>WHAT IS T-SHIRT CLUB? Created for the ultimate...</td>\n",
       "      <td>2</td>\n",
       "      <td>Bravado Music Icons</td>\n",
       "      <td>B08MV3QHL8</td>\n",
       "    </tr>\n",
       "    <tr>\n",
       "      <th>2</th>\n",
       "      <td>SUBSCRIPTION BOXES</td>\n",
       "      <td>Succulents Box - 2 Succulents 2 Clay Pots Subs...</td>\n",
       "      <td>3.8</td>\n",
       "      <td>928</td>\n",
       "      <td>You'll receive a box of succulents in clay pot...</td>\n",
       "      <td>8</td>\n",
       "      <td>SUCCULENTS BOX</td>\n",
       "      <td>B084KPB9K8</td>\n",
       "    </tr>\n",
       "    <tr>\n",
       "      <th>3</th>\n",
       "      <td>SUBSCRIPTION BOXES</td>\n",
       "      <td>The Legend of Vox Machina T-Shirt Club Subscri...</td>\n",
       "      <td>4.4</td>\n",
       "      <td>47</td>\n",
       "      <td>WHAT IS T-SHIRT CLUB? Created for the ultimate...</td>\n",
       "      <td>2</td>\n",
       "      <td>The Legend of Vox Machina</td>\n",
       "      <td>B09YYGB4BH</td>\n",
       "    </tr>\n",
       "    <tr>\n",
       "      <th>4</th>\n",
       "      <td>SUBSCRIPTION BOXES</td>\n",
       "      <td>50 States Of Mine - Premium Subscription Box: ...</td>\n",
       "      <td>4.6</td>\n",
       "      <td>6</td>\n",
       "      <td>6-10 quality curated items from a different st...</td>\n",
       "      <td>4</td>\n",
       "      <td>50 States Of Mine</td>\n",
       "      <td>B092MLYDGR</td>\n",
       "    </tr>\n",
       "  </tbody>\n",
       "</table>\n",
       "</div>"
      ],
      "text/plain": [
       "        main_category                                              title  \\\n",
       "0  SUBSCRIPTION BOXES  Loved Again Media - Movie Subscription Box - 1...   \n",
       "1  SUBSCRIPTION BOXES  Bravado Music Icons T-Shirt Club Subscription ...   \n",
       "2  SUBSCRIPTION BOXES  Succulents Box - 2 Succulents 2 Clay Pots Subs...   \n",
       "3  SUBSCRIPTION BOXES  The Legend of Vox Machina T-Shirt Club Subscri...   \n",
       "4  SUBSCRIPTION BOXES  50 States Of Mine - Premium Subscription Box: ...   \n",
       "\n",
       "   average_rating  rating_number  \\\n",
       "0             4.1             75   \n",
       "1             3.9            329   \n",
       "2             3.8            928   \n",
       "3             4.4             47   \n",
       "4             4.6              6   \n",
       "\n",
       "                                            features  images  \\\n",
       "0  10 gently used DVDs delivered to your door eve...       7   \n",
       "1  WHAT IS T-SHIRT CLUB? Created for the ultimate...       2   \n",
       "2  You'll receive a box of succulents in clay pot...       8   \n",
       "3  WHAT IS T-SHIRT CLUB? Created for the ultimate...       2   \n",
       "4  6-10 quality curated items from a different st...       4   \n",
       "\n",
       "                       store parent_asin  \n",
       "0          Loved Again Media  B08W5BSH6V  \n",
       "1        Bravado Music Icons  B08MV3QHL8  \n",
       "2             SUCCULENTS BOX  B084KPB9K8  \n",
       "3  The Legend of Vox Machina  B09YYGB4BH  \n",
       "4          50 States Of Mine  B092MLYDGR  "
      ]
     },
     "execution_count": 14,
     "metadata": {},
     "output_type": "execute_result"
    }
   ],
   "source": [
    "df_meta_SubBox.head()"
   ]
  },
  {
   "cell_type": "markdown",
   "metadata": {},
   "source": [
    "Our next feature of interest is going to be rating number in order to evaluate the reviews dataset"
   ]
  },
  {
   "cell_type": "code",
   "execution_count": 15,
   "metadata": {},
   "outputs": [
    {
     "data": {
      "text/plain": [
       "<Axes: ylabel='Density'>"
      ]
     },
     "execution_count": 15,
     "metadata": {},
     "output_type": "execute_result"
    },
    {
     "data": {
      "image/png": "[encoded data removed]",
      "text/plain": [
       "<Figure size 640x480 with 1 Axes>"
      ]
     },
     "metadata": {},
     "output_type": "display_data"
    }
   ],
   "source": [
    "# calculating the distribution of reviews per product\n",
    "df_meta_SubBox.groupby(by=\"parent_asin\").agg({\"rating_number\":\"sum\"}).rating_number.plot(kind='density')"
   ]
  },
  {
   "cell_type": "code",
   "execution_count": 16,
   "metadata": {},
   "outputs": [
    {
     "data": {
      "text/plain": [
       "<Axes: ylabel='Density'>"
      ]
     },
     "execution_count": 16,
     "metadata": {},
     "output_type": "execute_result"
    },
    {
     "data": {
      "image/png": "[encoded data removed]",
      "text/plain": [
       "<Figure size 640x480 with 1 Axes>"
      ]
     },
     "metadata": {},
     "output_type": "display_data"
    }
   ],
   "source": [
    "# Zoom In\n",
    "df_meta_SubBox[df_meta_SubBox.rating_number < 600].groupby(by=\"parent_asin\").agg({\"rating_number\":\"sum\"}).rating_number.plot(kind='density')"
   ]
  },
  {
   "cell_type": "code",
   "execution_count": 17,
   "metadata": {},
   "outputs": [
    {
     "data": {
      "text/plain": [
       "rating_number\n",
       "0    509\n",
       "1    132\n",
       "Name: count, dtype: int64"
      ]
     },
     "execution_count": 17,
     "metadata": {},
     "output_type": "execute_result"
    }
   ],
   "source": [
    "df_meta_SubBox.rating_number.apply(lambda x:0 if x<200 else 1).value_counts()"
   ]
  },
  {
   "cell_type": "code",
   "execution_count": 18,
   "metadata": {},
   "outputs": [
    {
     "name": "stdout",
     "output_type": "stream",
     "text": [
      "Number of reviews for this condition : 101556\n",
      "data pourcentage : 81 %\n"
     ]
    }
   ],
   "source": [
    "count = str(df_meta_SubBox[df_meta_SubBox.rating_number > 200].rating_number.sum())\n",
    "print(f\"Number of reviews for this condition : {count}\")\n",
    "print(f\"data pourcentage : {round(int(count)*100/df_meta_SubBox.rating_number.sum())} %\")"
   ]
  },
  {
   "cell_type": "markdown",
   "metadata": {},
   "source": [
    "In order to get a clean data that is most suitable for outliers detection we will focus on products with more than 200 reviews which will consist on : 81 % of reviews (in the other data set)"
   ]
  },
  {
   "cell_type": "code",
   "execution_count": 19,
   "metadata": {},
   "outputs": [],
   "source": [
    "df_meta_SubBox = df_meta_SubBox[df_meta_SubBox.rating_number >200]"
   ]
  },
  {
   "cell_type": "code",
   "execution_count": 20,
   "metadata": {},
   "outputs": [
    {
     "data": {
      "text/html": [
       "<div>\n",
       "<style scoped>\n",
       "    .dataframe tbody tr th:only-of-type {\n",
       "        vertical-align: middle;\n",
       "    }\n",
       "\n",
       "    .dataframe tbody tr th {\n",
       "        vertical-align: top;\n",
       "    }\n",
       "\n",
       "    .dataframe thead th {\n",
       "        text-align: right;\n",
       "    }\n",
       "</style>\n",
       "<table border=\"1\" class=\"dataframe\">\n",
       "  <thead>\n",
       "    <tr style=\"text-align: right;\">\n",
       "      <th></th>\n",
       "      <th>main_category</th>\n",
       "      <th>title</th>\n",
       "      <th>average_rating</th>\n",
       "      <th>rating_number</th>\n",
       "      <th>features</th>\n",
       "      <th>images</th>\n",
       "      <th>store</th>\n",
       "      <th>parent_asin</th>\n",
       "    </tr>\n",
       "  </thead>\n",
       "  <tbody>\n",
       "    <tr>\n",
       "      <th>1</th>\n",
       "      <td>SUBSCRIPTION BOXES</td>\n",
       "      <td>Bravado Music Icons T-Shirt Club Subscription ...</td>\n",
       "      <td>3.9</td>\n",
       "      <td>329</td>\n",
       "      <td>WHAT IS T-SHIRT CLUB? Created for the ultimate...</td>\n",
       "      <td>2</td>\n",
       "      <td>Bravado Music Icons</td>\n",
       "      <td>B08MV3QHL8</td>\n",
       "    </tr>\n",
       "    <tr>\n",
       "      <th>2</th>\n",
       "      <td>SUBSCRIPTION BOXES</td>\n",
       "      <td>Succulents Box - 2 Succulents 2 Clay Pots Subs...</td>\n",
       "      <td>3.8</td>\n",
       "      <td>928</td>\n",
       "      <td>You'll receive a box of succulents in clay pot...</td>\n",
       "      <td>8</td>\n",
       "      <td>SUCCULENTS BOX</td>\n",
       "      <td>B084KPB9K8</td>\n",
       "    </tr>\n",
       "    <tr>\n",
       "      <th>5</th>\n",
       "      <td>SUBSCRIPTION BOXES</td>\n",
       "      <td>Funko Star Wars Smuggler's Bounty Box</td>\n",
       "      <td>4.5</td>\n",
       "      <td>1613</td>\n",
       "      <td>The Star Wars Smuggler’s Bounty subscription b...</td>\n",
       "      <td>5</td>\n",
       "      <td>Funko</td>\n",
       "      <td>B07GNX34XV</td>\n",
       "    </tr>\n",
       "    <tr>\n",
       "      <th>7</th>\n",
       "      <td>SUBSCRIPTION BOXES</td>\n",
       "      <td>Costa Farms O2 For You Live Indoor Plant and S...</td>\n",
       "      <td>4.4</td>\n",
       "      <td>265</td>\n",
       "      <td>Each subscription box includes at least one of...</td>\n",
       "      <td>5</td>\n",
       "      <td>Costa Farms</td>\n",
       "      <td>B097F23P6Z</td>\n",
       "    </tr>\n",
       "    <tr>\n",
       "      <th>16</th>\n",
       "      <td>SUBSCRIPTION BOXES</td>\n",
       "      <td>Marvel Design Vault Club T-Shirt Subscription ...</td>\n",
       "      <td>4.3</td>\n",
       "      <td>1408</td>\n",
       "      <td>WHAT IS T-SHIRT CLUB? Created for the ultimate...</td>\n",
       "      <td>8</td>\n",
       "      <td>Marvel</td>\n",
       "      <td>B08GDYSVNN</td>\n",
       "    </tr>\n",
       "  </tbody>\n",
       "</table>\n",
       "</div>"
      ],
      "text/plain": [
       "         main_category                                              title  \\\n",
       "1   SUBSCRIPTION BOXES  Bravado Music Icons T-Shirt Club Subscription ...   \n",
       "2   SUBSCRIPTION BOXES  Succulents Box - 2 Succulents 2 Clay Pots Subs...   \n",
       "5   SUBSCRIPTION BOXES              Funko Star Wars Smuggler's Bounty Box   \n",
       "7   SUBSCRIPTION BOXES  Costa Farms O2 For You Live Indoor Plant and S...   \n",
       "16  SUBSCRIPTION BOXES  Marvel Design Vault Club T-Shirt Subscription ...   \n",
       "\n",
       "    average_rating  rating_number  \\\n",
       "1              3.9            329   \n",
       "2              3.8            928   \n",
       "5              4.5           1613   \n",
       "7              4.4            265   \n",
       "16             4.3           1408   \n",
       "\n",
       "                                             features  images  \\\n",
       "1   WHAT IS T-SHIRT CLUB? Created for the ultimate...       2   \n",
       "2   You'll receive a box of succulents in clay pot...       8   \n",
       "5   The Star Wars Smuggler’s Bounty subscription b...       5   \n",
       "7   Each subscription box includes at least one of...       5   \n",
       "16  WHAT IS T-SHIRT CLUB? Created for the ultimate...       8   \n",
       "\n",
       "                  store parent_asin  \n",
       "1   Bravado Music Icons  B08MV3QHL8  \n",
       "2        SUCCULENTS BOX  B084KPB9K8  \n",
       "5                 Funko  B07GNX34XV  \n",
       "7           Costa Farms  B097F23P6Z  \n",
       "16               Marvel  B08GDYSVNN  "
      ]
     },
     "execution_count": 20,
     "metadata": {},
     "output_type": "execute_result"
    }
   ],
   "source": [
    "df_meta_SubBox.head()"
   ]
  },
  {
   "cell_type": "markdown",
   "metadata": {},
   "source": [
    "Store"
   ]
  },
  {
   "cell_type": "code",
   "execution_count": 21,
   "metadata": {},
   "outputs": [
    {
     "data": {
      "text/plain": [
       "store\n",
       "Funko                      30\n",
       "Highlights for Children     5\n",
       "Little Passports            4\n",
       "Candy Club                  4\n",
       "SnackNation                 4\n",
       "                           ..\n",
       "SPREZZA                     1\n",
       "Foot Cardigan               1\n",
       "Treats                      1\n",
       "Amazon Music                1\n",
       "ArtSnacks                   1\n",
       "Name: count, Length: 75, dtype: int64"
      ]
     },
     "execution_count": 21,
     "metadata": {},
     "output_type": "execute_result"
    }
   ],
   "source": [
    "df_meta_SubBox.store.value_counts()"
   ]
  },
  {
   "cell_type": "code",
   "execution_count": 22,
   "metadata": {},
   "outputs": [
    {
     "name": "stdout",
     "output_type": "stream",
     "text": [
      "76515\n",
      "25041\n"
     ]
    }
   ],
   "source": [
    "print(df_meta_SubBox[~df_meta_SubBox.store.isin([\"Funko\"])].rating_number.sum()) #, test_data_2d[~outliers, 1]\n",
    "print(df_meta_SubBox[df_meta_SubBox.store.isin([\"Funko\"])].rating_number.sum()) #, test_data_2d[~outliers, 1]\n"
   ]
  },
  {
   "cell_type": "markdown",
   "metadata": {},
   "source": [
    "In order to clean more the data we will abandon all reviews for the store Funko so that the data of this category will be more well class varied."
   ]
  },
  {
   "cell_type": "code",
   "execution_count": 23,
   "metadata": {},
   "outputs": [],
   "source": [
    "df_meta_SubBox = df_meta_SubBox[~df_meta_SubBox.store.isin([\"Funko\"])]"
   ]
  },
  {
   "cell_type": "markdown",
   "metadata": {},
   "source": [
    "The last feature to be analysed is the main category."
   ]
  },
  {
   "cell_type": "code",
   "execution_count": 24,
   "metadata": {},
   "outputs": [
    {
     "data": {
      "text/plain": [
       "main_category\n",
       "SUBSCRIPTION BOXES    102\n",
       "Name: count, dtype: int64"
      ]
     },
     "execution_count": 24,
     "metadata": {},
     "output_type": "execute_result"
    }
   ],
   "source": [
    "df_meta_SubBox.main_category.value_counts()"
   ]
  },
  {
   "cell_type": "markdown",
   "metadata": {},
   "source": [
    "since the category has only one value, it would be possible for it to be deleted if the information was not needed in the model"
   ]
  },
  {
   "cell_type": "markdown",
   "metadata": {},
   "source": [
    "### Software"
   ]
  },
  {
   "cell_type": "code",
   "execution_count": 25,
   "metadata": {},
   "outputs": [
    {
     "data": {
      "text/html": [
       "<div>\n",
       "<style scoped>\n",
       "    .dataframe tbody tr th:only-of-type {\n",
       "        vertical-align: middle;\n",
       "    }\n",
       "\n",
       "    .dataframe tbody tr th {\n",
       "        vertical-align: top;\n",
       "    }\n",
       "\n",
       "    .dataframe thead th {\n",
       "        text-align: right;\n",
       "    }\n",
       "</style>\n",
       "<table border=\"1\" class=\"dataframe\">\n",
       "  <thead>\n",
       "    <tr style=\"text-align: right;\">\n",
       "      <th></th>\n",
       "      <th>main_category</th>\n",
       "      <th>title</th>\n",
       "      <th>average_rating</th>\n",
       "      <th>rating_number</th>\n",
       "      <th>features</th>\n",
       "      <th>description</th>\n",
       "      <th>price</th>\n",
       "      <th>images</th>\n",
       "      <th>videos</th>\n",
       "      <th>store</th>\n",
       "      <th>categories</th>\n",
       "      <th>details</th>\n",
       "      <th>parent_asin</th>\n",
       "      <th>bought_together</th>\n",
       "      <th>subtitle</th>\n",
       "      <th>author</th>\n",
       "    </tr>\n",
       "  </thead>\n",
       "  <tbody>\n",
       "    <tr>\n",
       "      <th>0</th>\n",
       "      <td>Appstore for Android</td>\n",
       "      <td>Accupressure Guide</td>\n",
       "      <td>3.6</td>\n",
       "      <td>NaN</td>\n",
       "      <td>[All the pressing point has been explained wit...</td>\n",
       "      <td>[Acupressure technique is very ancient and ver...</td>\n",
       "      <td>0.00</td>\n",
       "      <td>[{'large': 'https://m.media-amazon.com/images/...</td>\n",
       "      <td>[{'title': '', 'url': '', 'user_id': ''}]</td>\n",
       "      <td>mAppsguru</td>\n",
       "      <td>[]</td>\n",
       "      <td>{'Release Date': '2015', 'Date first listed on...</td>\n",
       "      <td>B00VRPSGEO</td>\n",
       "      <td>NaN</td>\n",
       "      <td>NaN</td>\n",
       "      <td>NaN</td>\n",
       "    </tr>\n",
       "    <tr>\n",
       "      <th>1</th>\n",
       "      <td>Appstore for Android</td>\n",
       "      <td>Ankylosaurus Fights Back - Smithsonian's Prehi...</td>\n",
       "      <td>4.0</td>\n",
       "      <td>NaN</td>\n",
       "      <td>[ENCOURAGE literacy skills with highlighted na...</td>\n",
       "      <td>[Join Ankylosaurus in this interactive book ap...</td>\n",
       "      <td>2.99</td>\n",
       "      <td>[{'large': 'https://m.media-amazon.com/images/...</td>\n",
       "      <td>[{'title': '', 'url': '', 'user_id': ''}]</td>\n",
       "      <td>Oceanhouse Media, Inc</td>\n",
       "      <td>[]</td>\n",
       "      <td>{'Release Date': '2014', 'Date first listed on...</td>\n",
       "      <td>B00NWQXXHQ</td>\n",
       "      <td>NaN</td>\n",
       "      <td>NaN</td>\n",
       "      <td>NaN</td>\n",
       "    </tr>\n",
       "    <tr>\n",
       "      <th>2</th>\n",
       "      <td>Appstore for Android</td>\n",
       "      <td>Mahjong 2015</td>\n",
       "      <td>3.1</td>\n",
       "      <td>NaN</td>\n",
       "      <td>[Mahjong 2015 is a free solitaire matching gam...</td>\n",
       "      <td>[Mahjong 2015 is a free solitaire matching gam...</td>\n",
       "      <td>0.00</td>\n",
       "      <td>[{'large': 'https://m.media-amazon.com/images/...</td>\n",
       "      <td>[{'title': '', 'url': '', 'user_id': ''}]</td>\n",
       "      <td>sophiathach</td>\n",
       "      <td>[]</td>\n",
       "      <td>{'Release Date': '2014', 'Date first listed on...</td>\n",
       "      <td>B00RFKP6AC</td>\n",
       "      <td>NaN</td>\n",
       "      <td>NaN</td>\n",
       "      <td>NaN</td>\n",
       "    </tr>\n",
       "    <tr>\n",
       "      <th>3</th>\n",
       "      <td>Appstore for Android</td>\n",
       "      <td>Jewels Brick Breakout</td>\n",
       "      <td>4.2</td>\n",
       "      <td>NaN</td>\n",
       "      <td>[Game Features:, - Intuitive touch controls wi...</td>\n",
       "      <td>[Jewels Brick Breakout is a glowing jewels bri...</td>\n",
       "      <td>0.00</td>\n",
       "      <td>[{'large': 'https://m.media-amazon.com/images/...</td>\n",
       "      <td>[{'title': '', 'url': '', 'user_id': ''}]</td>\n",
       "      <td>Bad Chicken</td>\n",
       "      <td>[]</td>\n",
       "      <td>{'Release Date': '2015', 'Date first listed on...</td>\n",
       "      <td>B00SP2QU0E</td>\n",
       "      <td>NaN</td>\n",
       "      <td>NaN</td>\n",
       "      <td>NaN</td>\n",
       "    </tr>\n",
       "    <tr>\n",
       "      <th>4</th>\n",
       "      <td>Appstore for Android</td>\n",
       "      <td>Traffic Police: Off-Road Cub</td>\n",
       "      <td>3.3</td>\n",
       "      <td>NaN</td>\n",
       "      <td>[In this game you will find:, - Killer police ...</td>\n",
       "      <td>[Become the best road police officer in Cube C...</td>\n",
       "      <td>0.00</td>\n",
       "      <td>[{'large': 'https://m.media-amazon.com/images/...</td>\n",
       "      <td>[{'title': '', 'url': '', 'user_id': ''}]</td>\n",
       "      <td>Dast 2 For Metro</td>\n",
       "      <td>[]</td>\n",
       "      <td>{'Release Date': '2016', 'Date first listed on...</td>\n",
       "      <td>B01DZIT64O</td>\n",
       "      <td>NaN</td>\n",
       "      <td>NaN</td>\n",
       "      <td>NaN</td>\n",
       "    </tr>\n",
       "  </tbody>\n",
       "</table>\n",
       "</div>"
      ],
      "text/plain": [
       "          main_category                                              title  \\\n",
       "0  Appstore for Android                                 Accupressure Guide   \n",
       "1  Appstore for Android  Ankylosaurus Fights Back - Smithsonian's Prehi...   \n",
       "2  Appstore for Android                                       Mahjong 2015   \n",
       "3  Appstore for Android                              Jewels Brick Breakout   \n",
       "4  Appstore for Android                       Traffic Police: Off-Road Cub   \n",
       "\n",
       "   average_rating  rating_number  \\\n",
       "0             3.6            NaN   \n",
       "1             4.0            NaN   \n",
       "2             3.1            NaN   \n",
       "3             4.2            NaN   \n",
       "4             3.3            NaN   \n",
       "\n",
       "                                            features  \\\n",
       "0  [All the pressing point has been explained wit...   \n",
       "1  [ENCOURAGE literacy skills with highlighted na...   \n",
       "2  [Mahjong 2015 is a free solitaire matching gam...   \n",
       "3  [Game Features:, - Intuitive touch controls wi...   \n",
       "4  [In this game you will find:, - Killer police ...   \n",
       "\n",
       "                                         description  price  \\\n",
       "0  [Acupressure technique is very ancient and ver...   0.00   \n",
       "1  [Join Ankylosaurus in this interactive book ap...   2.99   \n",
       "2  [Mahjong 2015 is a free solitaire matching gam...   0.00   \n",
       "3  [Jewels Brick Breakout is a glowing jewels bri...   0.00   \n",
       "4  [Become the best road police officer in Cube C...   0.00   \n",
       "\n",
       "                                              images  \\\n",
       "0  [{'large': 'https://m.media-amazon.com/images/...   \n",
       "1  [{'large': 'https://m.media-amazon.com/images/...   \n",
       "2  [{'large': 'https://m.media-amazon.com/images/...   \n",
       "3  [{'large': 'https://m.media-amazon.com/images/...   \n",
       "4  [{'large': 'https://m.media-amazon.com/images/...   \n",
       "\n",
       "                                      videos                  store  \\\n",
       "0  [{'title': '', 'url': '', 'user_id': ''}]              mAppsguru   \n",
       "1  [{'title': '', 'url': '', 'user_id': ''}]  Oceanhouse Media, Inc   \n",
       "2  [{'title': '', 'url': '', 'user_id': ''}]            sophiathach   \n",
       "3  [{'title': '', 'url': '', 'user_id': ''}]            Bad Chicken   \n",
       "4  [{'title': '', 'url': '', 'user_id': ''}]       Dast 2 For Metro   \n",
       "\n",
       "  categories                                            details parent_asin  \\\n",
       "0         []  {'Release Date': '2015', 'Date first listed on...  B00VRPSGEO   \n",
       "1         []  {'Release Date': '2014', 'Date first listed on...  B00NWQXXHQ   \n",
       "2         []  {'Release Date': '2014', 'Date first listed on...  B00RFKP6AC   \n",
       "3         []  {'Release Date': '2015', 'Date first listed on...  B00SP2QU0E   \n",
       "4         []  {'Release Date': '2016', 'Date first listed on...  B01DZIT64O   \n",
       "\n",
       "   bought_together  subtitle  author  \n",
       "0              NaN       NaN     NaN  \n",
       "1              NaN       NaN     NaN  \n",
       "2              NaN       NaN     NaN  \n",
       "3              NaN       NaN     NaN  \n",
       "4              NaN       NaN     NaN  "
      ]
     },
     "execution_count": 25,
     "metadata": {},
     "output_type": "execute_result"
    }
   ],
   "source": [
    "df_meta_Soft = pd.read_json(\"data/meta_Software.jsonl\", lines=True)\n",
    "df_meta_Soft.head()"
   ]
  },
  {
   "cell_type": "code",
   "execution_count": 26,
   "metadata": {},
   "outputs": [
    {
     "data": {
      "text/plain": [
       "main_category       object\n",
       "title               object\n",
       "average_rating     float64\n",
       "rating_number      float64\n",
       "features            object\n",
       "description         object\n",
       "price              float64\n",
       "images              object\n",
       "videos              object\n",
       "store               object\n",
       "categories          object\n",
       "details             object\n",
       "parent_asin         object\n",
       "bought_together    float64\n",
       "subtitle           float64\n",
       "author             float64\n",
       "dtype: object"
      ]
     },
     "execution_count": 26,
     "metadata": {},
     "output_type": "execute_result"
    }
   ],
   "source": [
    "# Checking data type\n",
    "df_meta_Soft.dtypes"
   ]
  },
  {
   "cell_type": "code",
   "execution_count": 27,
   "metadata": {},
   "outputs": [
    {
     "data": {
      "text/plain": [
       "main_category        1.982051\n",
       "title                0.000000\n",
       "average_rating       0.028011\n",
       "rating_number        3.315369\n",
       "features             0.000000\n",
       "description          0.000000\n",
       "price               20.465877\n",
       "images               0.000000\n",
       "videos               0.000000\n",
       "store                0.238653\n",
       "categories           0.000000\n",
       "details              0.000000\n",
       "parent_asin          0.000000\n",
       "bought_together    100.000000\n",
       "subtitle           100.000000\n",
       "author             100.000000\n",
       "dtype: float64"
      ]
     },
     "execution_count": 27,
     "metadata": {},
     "output_type": "execute_result"
    }
   ],
   "source": [
    "# Checking Missing Values\n",
    "df_meta_Soft.isna().sum()*100/df_meta_Soft.shape[0]"
   ]
  },
  {
   "cell_type": "markdown",
   "metadata": {},
   "source": [
    "#### Notes :\n",
    "\n",
    "subtitle,author  and bought_together are to be deleted, Price will be deleted since that this info is not necessary for reviews"
   ]
  },
  {
   "cell_type": "code",
   "execution_count": 28,
   "metadata": {},
   "outputs": [],
   "source": [
    "df_meta_Soft.drop([\"bought_together\",\"author\",\"subtitle\",\"price\"], axis=1, inplace=True)"
   ]
  },
  {
   "cell_type": "markdown",
   "metadata": {},
   "source": [
    "Yet other column has a different type that doesn't get detected by the function \"isna\", which are the lists, so the following is a speciale analysis to evaluate them"
   ]
  },
  {
   "cell_type": "code",
   "execution_count": 29,
   "metadata": {},
   "outputs": [
    {
     "name": "stdout",
     "output_type": "stream",
     "text": [
      "All lines count :  89251\n",
      "description null values :  4125  Null Pourcentage 5%\n",
      "videos null values :  18673  Null Pourcentage 21%\n",
      "details null values :  689  Null Pourcentage 1%\n",
      "categories null values :  70460  Null Pourcentage 79%\n",
      "features null values :  5475  Null Pourcentage 6%\n",
      "images null values :  4  Null Pourcentage 0%\n"
     ]
    }
   ],
   "source": [
    "print(\"All lines count : \", tot:=df_meta_Soft.shape[0]) \n",
    "print(\"description null values : \", count:=df_meta_Soft.description.apply(lambda x: 1 if len(x) == 0 else 0).sum(),f\" Null Pourcentage {round(count*100/tot)}%\")\n",
    "print(\"videos null values : \", count:=df_meta_Soft.videos.apply(lambda x: 1 if len(x) == 0 else 0).sum(),f\" Null Pourcentage {round(count*100/tot)}%\")\n",
    "print(\"details null values : \", count:=df_meta_Soft.details.apply(lambda x: 1 if len(x) == 0 else 0).sum(),f\" Null Pourcentage {round(count*100/tot)}%\")\n",
    "print(\"categories null values : \", count:=df_meta_Soft.categories.apply(lambda x: 1 if len(x) == 0 else 0).sum(),f\" Null Pourcentage {round(count*100/tot)}%\")\n",
    "print(\"features null values : \", count:=df_meta_Soft.features.apply(lambda x: 1 if len(x) == 0 else 0).sum(),f\" Null Pourcentage {round(count*100/tot)}%\")\n",
    "print(\"images null values : \", count:=df_meta_Soft.images.apply(lambda x: 1 if len(x) == 0 else 0).sum(),f\" Null Pourcentage {round(count*100/tot)}%\")"
   ]
  },
  {
   "cell_type": "markdown",
   "metadata": {},
   "source": [
    "\"description\" has a high percentage of missing values ==> To be deleted,\n",
    "\n",
    "In order to assure the comformity with the \"Subscription Box\" data set, we will delete \"description\", \"videos\", \"details\". Also \"Images\" and \"features\" will get the same processing after analysis"
   ]
  },
  {
   "cell_type": "code",
   "execution_count": 30,
   "metadata": {},
   "outputs": [],
   "source": [
    "# To be deleted\n",
    "df_meta_Soft.drop([\"description\",\"videos\",\"details\",\"categories\"], axis=1, inplace=True)"
   ]
  },
  {
   "cell_type": "code",
   "execution_count": 31,
   "metadata": {},
   "outputs": [
    {
     "data": {
      "text/plain": [
       "<Axes: ylabel='Density'>"
      ]
     },
     "execution_count": 31,
     "metadata": {},
     "output_type": "execute_result"
    },
    {
     "data": {
      "image/png": "[encoded data removed]",
      "text/plain": [
       "<Figure size 640x480 with 1 Axes>"
      ]
     },
     "metadata": {},
     "output_type": "display_data"
    }
   ],
   "source": [
    "# Images\n",
    "df_meta_Soft.images.apply(len).plot(kind=\"density\")"
   ]
  },
  {
   "cell_type": "code",
   "execution_count": 32,
   "metadata": {},
   "outputs": [],
   "source": [
    "df_meta_Soft.images = df_meta_Soft.images.apply(len)"
   ]
  },
  {
   "cell_type": "code",
   "execution_count": 33,
   "metadata": {},
   "outputs": [
    {
     "data": {
      "text/plain": [
       "<Axes: ylabel='Density'>"
      ]
     },
     "execution_count": 33,
     "metadata": {},
     "output_type": "execute_result"
    },
    {
     "data": {
      "image/png": "[encoded data removed]",
      "text/plain": [
       "<Figure size 640x480 with 1 Axes>"
      ]
     },
     "metadata": {},
     "output_type": "display_data"
    }
   ],
   "source": [
    "# features\n",
    "df_meta_Soft.features.apply(len).plot(kind=\"density\") # Reminder using a count function by token will give more accurate analysis"
   ]
  },
  {
   "cell_type": "markdown",
   "metadata": {},
   "source": [
    "The first thing to notice is that we have some products with features a big lenght of features, so we will evaluate them to decide whether its better to remove them.\n",
    "\n",
    "The evaluation will be made even though these products exists on the last ~10% percentile, because the number of reviews could be higher than expected"
   ]
  },
  {
   "cell_type": "code",
   "execution_count": 34,
   "metadata": {},
   "outputs": [
    {
     "data": {
      "text/plain": [
       "'33'"
      ]
     },
     "execution_count": 34,
     "metadata": {},
     "output_type": "execute_result"
    }
   ],
   "source": [
    "draft = df_meta_Soft[df_meta_Soft.features.apply(len)>50]\n",
    "(f\"{draft.parent_asin.nunique()}\")"
   ]
  },
  {
   "cell_type": "code",
   "execution_count": 35,
   "metadata": {},
   "outputs": [
    {
     "data": {
      "text/plain": [
       "' pourcentage of reviews coming into products with more than 50 elements in features :  0.0010166019790504948%'"
      ]
     },
     "execution_count": 35,
     "metadata": {},
     "output_type": "execute_result"
    }
   ],
   "source": [
    "(f\" pourcentage of reviews coming into products with more than 50 elements in features :  {(draft.rating_number.sum()*100/df_meta_Soft.rating_number.sum())}%\")"
   ]
  },
  {
   "cell_type": "code",
   "execution_count": 36,
   "metadata": {},
   "outputs": [
    {
     "data": {
      "text/plain": [
       "<Axes: ylabel='Density'>"
      ]
     },
     "execution_count": 36,
     "metadata": {},
     "output_type": "execute_result"
    },
    {
     "data": {
      "image/png": "[encoded data removed]",
      "text/plain": [
       "<Figure size 640x480 with 1 Axes>"
      ]
     },
     "metadata": {},
     "output_type": "display_data"
    }
   ],
   "source": [
    "# Analysis by product (parent_asin)\n",
    "df_meta_Soft.groupby(by=\"parent_asin\").agg({\"rating_number\":\"sum\"}).rating_number.plot(kind='density')"
   ]
  },
  {
   "cell_type": "code",
   "execution_count": 37,
   "metadata": {},
   "outputs": [
    {
     "data": {
      "text/html": [
       "<div>\n",
       "<style scoped>\n",
       "    .dataframe tbody tr th:only-of-type {\n",
       "        vertical-align: middle;\n",
       "    }\n",
       "\n",
       "    .dataframe tbody tr th {\n",
       "        vertical-align: top;\n",
       "    }\n",
       "\n",
       "    .dataframe thead th {\n",
       "        text-align: right;\n",
       "    }\n",
       "</style>\n",
       "<table border=\"1\" class=\"dataframe\">\n",
       "  <thead>\n",
       "    <tr style=\"text-align: right;\">\n",
       "      <th></th>\n",
       "      <th>rating_number</th>\n",
       "    </tr>\n",
       "    <tr>\n",
       "      <th>parent_asin</th>\n",
       "      <th></th>\n",
       "    </tr>\n",
       "  </thead>\n",
       "  <tbody>\n",
       "    <tr>\n",
       "      <th>B00XX90VJK</th>\n",
       "      <td>0.0</td>\n",
       "    </tr>\n",
       "    <tr>\n",
       "      <th>B00XVSTAMM</th>\n",
       "      <td>0.0</td>\n",
       "    </tr>\n",
       "    <tr>\n",
       "      <th>B004S7V7VW</th>\n",
       "      <td>0.0</td>\n",
       "    </tr>\n",
       "    <tr>\n",
       "      <th>B01N14UGJ1</th>\n",
       "      <td>0.0</td>\n",
       "    </tr>\n",
       "    <tr>\n",
       "      <th>B01N1H9HVN</th>\n",
       "      <td>0.0</td>\n",
       "    </tr>\n",
       "    <tr>\n",
       "      <th>...</th>\n",
       "      <td>...</td>\n",
       "    </tr>\n",
       "    <tr>\n",
       "      <th>B07XDD7GYT</th>\n",
       "      <td>464483.0</td>\n",
       "    </tr>\n",
       "    <tr>\n",
       "      <th>B01N0BP507</th>\n",
       "      <td>672812.0</td>\n",
       "    </tr>\n",
       "    <tr>\n",
       "      <th>B00KDSGIPK</th>\n",
       "      <td>776283.0</td>\n",
       "    </tr>\n",
       "    <tr>\n",
       "      <th>B09H9CWGQN</th>\n",
       "      <td>1011284.0</td>\n",
       "    </tr>\n",
       "    <tr>\n",
       "      <th>B07T771SPH</th>\n",
       "      <td>1898759.0</td>\n",
       "    </tr>\n",
       "  </tbody>\n",
       "</table>\n",
       "<p>89251 rows × 1 columns</p>\n",
       "</div>"
      ],
      "text/plain": [
       "             rating_number\n",
       "parent_asin               \n",
       "B00XX90VJK             0.0\n",
       "B00XVSTAMM             0.0\n",
       "B004S7V7VW             0.0\n",
       "B01N14UGJ1             0.0\n",
       "B01N1H9HVN             0.0\n",
       "...                    ...\n",
       "B07XDD7GYT        464483.0\n",
       "B01N0BP507        672812.0\n",
       "B00KDSGIPK        776283.0\n",
       "B09H9CWGQN       1011284.0\n",
       "B07T771SPH       1898759.0\n",
       "\n",
       "[89251 rows x 1 columns]"
      ]
     },
     "execution_count": 37,
     "metadata": {},
     "output_type": "execute_result"
    }
   ],
   "source": [
    "# Number of reviews per product\n",
    "draft_ = df_meta_Soft.groupby(by=\"parent_asin\").agg({\"rating_number\":\"sum\"}).sort_values(by='rating_number')\n",
    "draft_"
   ]
  },
  {
   "cell_type": "code",
   "execution_count": 38,
   "metadata": {},
   "outputs": [
    {
     "data": {
      "text/html": [
       "<div>\n",
       "<style scoped>\n",
       "    .dataframe tbody tr th:only-of-type {\n",
       "        vertical-align: middle;\n",
       "    }\n",
       "\n",
       "    .dataframe tbody tr th {\n",
       "        vertical-align: top;\n",
       "    }\n",
       "\n",
       "    .dataframe thead th {\n",
       "        text-align: right;\n",
       "    }\n",
       "</style>\n",
       "<table border=\"1\" class=\"dataframe\">\n",
       "  <thead>\n",
       "    <tr style=\"text-align: right;\">\n",
       "      <th></th>\n",
       "      <th>main_category</th>\n",
       "      <th>title</th>\n",
       "      <th>average_rating</th>\n",
       "      <th>rating_number</th>\n",
       "      <th>features</th>\n",
       "      <th>images</th>\n",
       "      <th>store</th>\n",
       "      <th>parent_asin</th>\n",
       "    </tr>\n",
       "  </thead>\n",
       "  <tbody>\n",
       "    <tr>\n",
       "      <th>9566</th>\n",
       "      <td>Appstore for Android</td>\n",
       "      <td>Disney+</td>\n",
       "      <td>4.5</td>\n",
       "      <td>1011284.0</td>\n",
       "      <td>[Exclusive new Originals from Disney, Pixar, M...</td>\n",
       "      <td>12</td>\n",
       "      <td>Disney Electronic Content, Inc.</td>\n",
       "      <td>B09H9CWGQN</td>\n",
       "    </tr>\n",
       "    <tr>\n",
       "      <th>18966</th>\n",
       "      <td>Appstore for Android</td>\n",
       "      <td>Pluto TV - It’s Free TV</td>\n",
       "      <td>4.2</td>\n",
       "      <td>776283.0</td>\n",
       "      <td>[Watch 100+ HD channels with 24/7 free content...</td>\n",
       "      <td>14</td>\n",
       "      <td>Pluto TV</td>\n",
       "      <td>B00KDSGIPK</td>\n",
       "    </tr>\n",
       "    <tr>\n",
       "      <th>24892</th>\n",
       "      <td>Appstore for Android</td>\n",
       "      <td>Downloader</td>\n",
       "      <td>4.2</td>\n",
       "      <td>672812.0</td>\n",
       "      <td>[Download files by entering their URL., Built-...</td>\n",
       "      <td>21</td>\n",
       "      <td>AFTVnews.com</td>\n",
       "      <td>B01N0BP507</td>\n",
       "    </tr>\n",
       "    <tr>\n",
       "      <th>43676</th>\n",
       "      <td>Appstore for Android</td>\n",
       "      <td>YouTube</td>\n",
       "      <td>4.6</td>\n",
       "      <td>1898759.0</td>\n",
       "      <td>[Browse by interest - Discover videos you’ll l...</td>\n",
       "      <td>10</td>\n",
       "      <td>Google LLC</td>\n",
       "      <td>B07T771SPH</td>\n",
       "    </tr>\n",
       "  </tbody>\n",
       "</table>\n",
       "</div>"
      ],
      "text/plain": [
       "              main_category                    title  average_rating  \\\n",
       "9566   Appstore for Android                  Disney+             4.5   \n",
       "18966  Appstore for Android  Pluto TV - It’s Free TV             4.2   \n",
       "24892  Appstore for Android               Downloader             4.2   \n",
       "43676  Appstore for Android                  YouTube             4.6   \n",
       "\n",
       "       rating_number                                           features  \\\n",
       "9566       1011284.0  [Exclusive new Originals from Disney, Pixar, M...   \n",
       "18966       776283.0  [Watch 100+ HD channels with 24/7 free content...   \n",
       "24892       672812.0  [Download files by entering their URL., Built-...   \n",
       "43676      1898759.0  [Browse by interest - Discover videos you’ll l...   \n",
       "\n",
       "       images                            store parent_asin  \n",
       "9566       12  Disney Electronic Content, Inc.  B09H9CWGQN  \n",
       "18966      14                         Pluto TV  B00KDSGIPK  \n",
       "24892      21                     AFTVnews.com  B01N0BP507  \n",
       "43676      10                       Google LLC  B07T771SPH  "
      ]
     },
     "execution_count": 38,
     "metadata": {},
     "output_type": "execute_result"
    }
   ],
   "source": [
    "# Zoom in on a selection of products with high number of reviews\n",
    "draft_list = [\"B01N0BP507\",\"B00KDSGIPK\",\"B09H9CWGQN\",\"B07T771SPH\"]\n",
    "df_meta_Soft[df_meta_Soft.parent_asin.isin(draft_list)]"
   ]
  },
  {
   "cell_type": "code",
   "execution_count": 39,
   "metadata": {},
   "outputs": [
    {
     "name": "stdout",
     "output_type": "stream",
     "text": [
      "Percentage of these reviews (last data frame) :   8.057287850462211\n",
      "Count of these reviews :   4359138.0\n"
     ]
    }
   ],
   "source": [
    "print(f\"Percentage of these reviews (last data frame) :   {(count:=draft_.rating_number.iloc[-4:].sum())*100/draft_.rating_number.sum()}\")\n",
    "print(f\"Count of these reviews :   {count}\")"
   ]
  },
  {
   "cell_type": "markdown",
   "metadata": {},
   "source": [
    "- Focusing only on this data set will bring us ahead of our target (1M transaction), so we will focus only on these 4 products. "
   ]
  },
  {
   "cell_type": "code",
   "execution_count": 40,
   "metadata": {},
   "outputs": [],
   "source": [
    "df_meta_Soft = df_meta_Soft[df_meta_Soft.parent_asin.isin(draft_list)]"
   ]
  },
  {
   "cell_type": "code",
   "execution_count": 41,
   "metadata": {},
   "outputs": [
    {
     "data": {
      "text/plain": [
       "<Axes: ylabel='Density'>"
      ]
     },
     "execution_count": 41,
     "metadata": {},
     "output_type": "execute_result"
    },
    {
     "data": {
      "image/png": "[encoded data removed]",
      "text/plain": [
       "<Figure size 640x480 with 1 Axes>"
      ]
     },
     "metadata": {},
     "output_type": "display_data"
    }
   ],
   "source": [
    "# Calculating number of tokens per row\n",
    "df_meta_Soft.features.apply(lambda l:sum([len(x) for x in l])).plot(kind=\"density\")  # the len can be replaced by a special function for word counting"
   ]
  },
  {
   "cell_type": "code",
   "execution_count": 42,
   "metadata": {},
   "outputs": [],
   "source": [
    "# Processing the text format into one str for future embedding\n",
    "df_meta_Soft.features = df_meta_Soft.features.apply(lambda x:' '.join(x))"
   ]
  },
  {
   "cell_type": "code",
   "execution_count": 43,
   "metadata": {},
   "outputs": [
    {
     "data": {
      "text/html": [
       "<div>\n",
       "<style scoped>\n",
       "    .dataframe tbody tr th:only-of-type {\n",
       "        vertical-align: middle;\n",
       "    }\n",
       "\n",
       "    .dataframe tbody tr th {\n",
       "        vertical-align: top;\n",
       "    }\n",
       "\n",
       "    .dataframe thead th {\n",
       "        text-align: right;\n",
       "    }\n",
       "</style>\n",
       "<table border=\"1\" class=\"dataframe\">\n",
       "  <thead>\n",
       "    <tr style=\"text-align: right;\">\n",
       "      <th></th>\n",
       "      <th>main_category</th>\n",
       "      <th>title</th>\n",
       "      <th>average_rating</th>\n",
       "      <th>rating_number</th>\n",
       "      <th>features</th>\n",
       "      <th>images</th>\n",
       "      <th>store</th>\n",
       "      <th>parent_asin</th>\n",
       "    </tr>\n",
       "  </thead>\n",
       "  <tbody>\n",
       "    <tr>\n",
       "      <th>9566</th>\n",
       "      <td>Appstore for Android</td>\n",
       "      <td>Disney+</td>\n",
       "      <td>4.5</td>\n",
       "      <td>1011284.0</td>\n",
       "      <td>Exclusive new Originals from Disney, Pixar, Ma...</td>\n",
       "      <td>12</td>\n",
       "      <td>Disney Electronic Content, Inc.</td>\n",
       "      <td>B09H9CWGQN</td>\n",
       "    </tr>\n",
       "    <tr>\n",
       "      <th>18966</th>\n",
       "      <td>Appstore for Android</td>\n",
       "      <td>Pluto TV - It’s Free TV</td>\n",
       "      <td>4.2</td>\n",
       "      <td>776283.0</td>\n",
       "      <td>Watch 100+ HD channels with 24/7 free content ...</td>\n",
       "      <td>14</td>\n",
       "      <td>Pluto TV</td>\n",
       "      <td>B00KDSGIPK</td>\n",
       "    </tr>\n",
       "    <tr>\n",
       "      <th>24892</th>\n",
       "      <td>Appstore for Android</td>\n",
       "      <td>Downloader</td>\n",
       "      <td>4.2</td>\n",
       "      <td>672812.0</td>\n",
       "      <td>Download files by entering their URL. Built-in...</td>\n",
       "      <td>21</td>\n",
       "      <td>AFTVnews.com</td>\n",
       "      <td>B01N0BP507</td>\n",
       "    </tr>\n",
       "    <tr>\n",
       "      <th>43676</th>\n",
       "      <td>Appstore for Android</td>\n",
       "      <td>YouTube</td>\n",
       "      <td>4.6</td>\n",
       "      <td>1898759.0</td>\n",
       "      <td>Browse by interest - Discover videos you’ll lo...</td>\n",
       "      <td>10</td>\n",
       "      <td>Google LLC</td>\n",
       "      <td>B07T771SPH</td>\n",
       "    </tr>\n",
       "  </tbody>\n",
       "</table>\n",
       "</div>"
      ],
      "text/plain": [
       "              main_category                    title  average_rating  \\\n",
       "9566   Appstore for Android                  Disney+             4.5   \n",
       "18966  Appstore for Android  Pluto TV - It’s Free TV             4.2   \n",
       "24892  Appstore for Android               Downloader             4.2   \n",
       "43676  Appstore for Android                  YouTube             4.6   \n",
       "\n",
       "       rating_number                                           features  \\\n",
       "9566       1011284.0  Exclusive new Originals from Disney, Pixar, Ma...   \n",
       "18966       776283.0  Watch 100+ HD channels with 24/7 free content ...   \n",
       "24892       672812.0  Download files by entering their URL. Built-in...   \n",
       "43676      1898759.0  Browse by interest - Discover videos you’ll lo...   \n",
       "\n",
       "       images                            store parent_asin  \n",
       "9566       12  Disney Electronic Content, Inc.  B09H9CWGQN  \n",
       "18966      14                         Pluto TV  B00KDSGIPK  \n",
       "24892      21                     AFTVnews.com  B01N0BP507  \n",
       "43676      10                       Google LLC  B07T771SPH  "
      ]
     },
     "execution_count": 43,
     "metadata": {},
     "output_type": "execute_result"
    }
   ],
   "source": [
    "df_meta_Soft.head()"
   ]
  },
  {
   "cell_type": "markdown",
   "metadata": {},
   "source": [
    "The last feature to be analysed is the main category."
   ]
  },
  {
   "cell_type": "code",
   "execution_count": 44,
   "metadata": {},
   "outputs": [
    {
     "data": {
      "text/plain": [
       "main_category\n",
       "Appstore for Android    4\n",
       "Name: count, dtype: int64"
      ]
     },
     "execution_count": 44,
     "metadata": {},
     "output_type": "execute_result"
    }
   ],
   "source": [
    "df_meta_Soft.main_category.value_counts()"
   ]
  },
  {
   "cell_type": "markdown",
   "metadata": {},
   "source": [
    "since the category has only one value, it would be possible for it to be deleted if the information was not needed in the model"
   ]
  },
  {
   "cell_type": "markdown",
   "metadata": {},
   "source": [
    "### Video Games"
   ]
  },
  {
   "cell_type": "code",
   "execution_count": 45,
   "metadata": {},
   "outputs": [
    {
     "data": {
      "text/html": [
       "<div>\n",
       "<style scoped>\n",
       "    .dataframe tbody tr th:only-of-type {\n",
       "        vertical-align: middle;\n",
       "    }\n",
       "\n",
       "    .dataframe tbody tr th {\n",
       "        vertical-align: top;\n",
       "    }\n",
       "\n",
       "    .dataframe thead th {\n",
       "        text-align: right;\n",
       "    }\n",
       "</style>\n",
       "<table border=\"1\" class=\"dataframe\">\n",
       "  <thead>\n",
       "    <tr style=\"text-align: right;\">\n",
       "      <th></th>\n",
       "      <th>main_category</th>\n",
       "      <th>title</th>\n",
       "      <th>average_rating</th>\n",
       "      <th>rating_number</th>\n",
       "      <th>features</th>\n",
       "      <th>description</th>\n",
       "      <th>price</th>\n",
       "      <th>images</th>\n",
       "      <th>videos</th>\n",
       "      <th>store</th>\n",
       "      <th>categories</th>\n",
       "      <th>details</th>\n",
       "      <th>parent_asin</th>\n",
       "      <th>bought_together</th>\n",
       "      <th>subtitle</th>\n",
       "      <th>author</th>\n",
       "    </tr>\n",
       "  </thead>\n",
       "  <tbody>\n",
       "    <tr>\n",
       "      <th>0</th>\n",
       "      <td>Video Games</td>\n",
       "      <td>Dash 8-300 Professional Add-On</td>\n",
       "      <td>5.0</td>\n",
       "      <td>1</td>\n",
       "      <td>[Features Dash 8-300 and 8-Q300 ('Q' rollout l...</td>\n",
       "      <td>[The Dash 8-300 Professional Add-On lets you p...</td>\n",
       "      <td>None</td>\n",
       "      <td>[{'thumb': 'https://m.media-amazon.com/images/...</td>\n",
       "      <td>[]</td>\n",
       "      <td>Aerosoft</td>\n",
       "      <td>[Video Games, PC, Games]</td>\n",
       "      <td>{'Pricing': 'The strikethrough price is the Li...</td>\n",
       "      <td>B000FH0MHO</td>\n",
       "      <td>NaN</td>\n",
       "      <td>NaN</td>\n",
       "      <td>NaN</td>\n",
       "    </tr>\n",
       "    <tr>\n",
       "      <th>1</th>\n",
       "      <td>Video Games</td>\n",
       "      <td>Phantasmagoria: A Puzzle of Flesh</td>\n",
       "      <td>4.1</td>\n",
       "      <td>18</td>\n",
       "      <td>[Windows 95]</td>\n",
       "      <td>[]</td>\n",
       "      <td>None</td>\n",
       "      <td>[{'thumb': 'https://m.media-amazon.com/images/...</td>\n",
       "      <td>[]</td>\n",
       "      <td>Sierra</td>\n",
       "      <td>[Video Games, PC, Games]</td>\n",
       "      <td>{'Best Sellers Rank': {'Video Games': 137612, ...</td>\n",
       "      <td>B00069EVOG</td>\n",
       "      <td>NaN</td>\n",
       "      <td>NaN</td>\n",
       "      <td>NaN</td>\n",
       "    </tr>\n",
       "    <tr>\n",
       "      <th>2</th>\n",
       "      <td>Video Games</td>\n",
       "      <td>NBA 2K17 - Early Tip Off Edition - PlayStation 4</td>\n",
       "      <td>4.3</td>\n",
       "      <td>223</td>\n",
       "      <td>[The #1 rated NBA video game simulation series...</td>\n",
       "      <td>[Following the record-breaking launch of NBA 2...</td>\n",
       "      <td>58.0</td>\n",
       "      <td>[{'thumb': 'https://m.media-amazon.com/images/...</td>\n",
       "      <td>[{'title': 'NBA 2K17 - Kobe: Haters vs Players...</td>\n",
       "      <td>2K</td>\n",
       "      <td>[Video Games, PlayStation 4, Games]</td>\n",
       "      <td>{'Release date': 'September 16, 2016', 'Best S...</td>\n",
       "      <td>B00Z9TLVK0</td>\n",
       "      <td>NaN</td>\n",
       "      <td>NaN</td>\n",
       "      <td>NaN</td>\n",
       "    </tr>\n",
       "    <tr>\n",
       "      <th>3</th>\n",
       "      <td>Video Games</td>\n",
       "      <td>Nintendo Selects: The Legend of Zelda Ocarina ...</td>\n",
       "      <td>4.9</td>\n",
       "      <td>22</td>\n",
       "      <td>[Authentic Nintendo Selects: The Legend of Zel...</td>\n",
       "      <td>[]</td>\n",
       "      <td>37.42</td>\n",
       "      <td>[{'thumb': 'https://m.media-amazon.com/images/...</td>\n",
       "      <td>[]</td>\n",
       "      <td>Amazon Renewed</td>\n",
       "      <td>[Video Games, Legacy Systems, Nintendo Systems...</td>\n",
       "      <td>{'Best Sellers Rank': {'Video Games': 51019, '...</td>\n",
       "      <td>B07SZJZV88</td>\n",
       "      <td>NaN</td>\n",
       "      <td>NaN</td>\n",
       "      <td>NaN</td>\n",
       "    </tr>\n",
       "    <tr>\n",
       "      <th>4</th>\n",
       "      <td>Video Games</td>\n",
       "      <td>Thrustmaster Elite Fitness Pack for Nintendo Wii</td>\n",
       "      <td>3.0</td>\n",
       "      <td>3</td>\n",
       "      <td>[Includes (9) Total Accessories, Pedometer, Wi...</td>\n",
       "      <td>[The Thrustmaster Motion Plus Elite Fitness Pa...</td>\n",
       "      <td>None</td>\n",
       "      <td>[{'thumb': 'https://m.media-amazon.com/images/...</td>\n",
       "      <td>[]</td>\n",
       "      <td>THRUSTMASTER</td>\n",
       "      <td>[Video Games, Legacy Systems, Nintendo Systems...</td>\n",
       "      <td>{'Release date': 'November 1, 2009', 'Pricing'...</td>\n",
       "      <td>B002WH4ZJG</td>\n",
       "      <td>NaN</td>\n",
       "      <td>NaN</td>\n",
       "      <td>NaN</td>\n",
       "    </tr>\n",
       "  </tbody>\n",
       "</table>\n",
       "</div>"
      ],
      "text/plain": [
       "  main_category                                              title  \\\n",
       "0   Video Games                     Dash 8-300 Professional Add-On   \n",
       "1   Video Games                  Phantasmagoria: A Puzzle of Flesh   \n",
       "2   Video Games   NBA 2K17 - Early Tip Off Edition - PlayStation 4   \n",
       "3   Video Games  Nintendo Selects: The Legend of Zelda Ocarina ...   \n",
       "4   Video Games   Thrustmaster Elite Fitness Pack for Nintendo Wii   \n",
       "\n",
       "   average_rating  rating_number  \\\n",
       "0             5.0              1   \n",
       "1             4.1             18   \n",
       "2             4.3            223   \n",
       "3             4.9             22   \n",
       "4             3.0              3   \n",
       "\n",
       "                                            features  \\\n",
       "0  [Features Dash 8-300 and 8-Q300 ('Q' rollout l...   \n",
       "1                                       [Windows 95]   \n",
       "2  [The #1 rated NBA video game simulation series...   \n",
       "3  [Authentic Nintendo Selects: The Legend of Zel...   \n",
       "4  [Includes (9) Total Accessories, Pedometer, Wi...   \n",
       "\n",
       "                                         description  price  \\\n",
       "0  [The Dash 8-300 Professional Add-On lets you p...   None   \n",
       "1                                                 []   None   \n",
       "2  [Following the record-breaking launch of NBA 2...   58.0   \n",
       "3                                                 []  37.42   \n",
       "4  [The Thrustmaster Motion Plus Elite Fitness Pa...   None   \n",
       "\n",
       "                                              images  \\\n",
       "0  [{'thumb': 'https://m.media-amazon.com/images/...   \n",
       "1  [{'thumb': 'https://m.media-amazon.com/images/...   \n",
       "2  [{'thumb': 'https://m.media-amazon.com/images/...   \n",
       "3  [{'thumb': 'https://m.media-amazon.com/images/...   \n",
       "4  [{'thumb': 'https://m.media-amazon.com/images/...   \n",
       "\n",
       "                                              videos           store  \\\n",
       "0                                                 []        Aerosoft   \n",
       "1                                                 []          Sierra   \n",
       "2  [{'title': 'NBA 2K17 - Kobe: Haters vs Players...              2K   \n",
       "3                                                 []  Amazon Renewed   \n",
       "4                                                 []    THRUSTMASTER   \n",
       "\n",
       "                                          categories  \\\n",
       "0                           [Video Games, PC, Games]   \n",
       "1                           [Video Games, PC, Games]   \n",
       "2                [Video Games, PlayStation 4, Games]   \n",
       "3  [Video Games, Legacy Systems, Nintendo Systems...   \n",
       "4  [Video Games, Legacy Systems, Nintendo Systems...   \n",
       "\n",
       "                                             details parent_asin  \\\n",
       "0  {'Pricing': 'The strikethrough price is the Li...  B000FH0MHO   \n",
       "1  {'Best Sellers Rank': {'Video Games': 137612, ...  B00069EVOG   \n",
       "2  {'Release date': 'September 16, 2016', 'Best S...  B00Z9TLVK0   \n",
       "3  {'Best Sellers Rank': {'Video Games': 51019, '...  B07SZJZV88   \n",
       "4  {'Release date': 'November 1, 2009', 'Pricing'...  B002WH4ZJG   \n",
       "\n",
       "   bought_together subtitle author  \n",
       "0              NaN      NaN    NaN  \n",
       "1              NaN      NaN    NaN  \n",
       "2              NaN      NaN    NaN  \n",
       "3              NaN      NaN    NaN  \n",
       "4              NaN      NaN    NaN  "
      ]
     },
     "execution_count": 45,
     "metadata": {},
     "output_type": "execute_result"
    }
   ],
   "source": [
    "df_meta_VGames = pd.read_json(\"data/meta_Video_Games.jsonl\", lines=True)\n",
    "df_meta_VGames.head()"
   ]
  },
  {
   "cell_type": "code",
   "execution_count": 46,
   "metadata": {},
   "outputs": [
    {
     "data": {
      "text/plain": [
       "main_category       object\n",
       "title               object\n",
       "average_rating     float64\n",
       "rating_number        int64\n",
       "features            object\n",
       "description         object\n",
       "price               object\n",
       "images              object\n",
       "videos              object\n",
       "store               object\n",
       "categories          object\n",
       "details             object\n",
       "parent_asin         object\n",
       "bought_together    float64\n",
       "subtitle            object\n",
       "author              object\n",
       "dtype: object"
      ]
     },
     "execution_count": 46,
     "metadata": {},
     "output_type": "execute_result"
    }
   ],
   "source": [
    "# Checking data type\n",
    "df_meta_VGames.dtypes"
   ]
  },
  {
   "cell_type": "code",
   "execution_count": 47,
   "metadata": {},
   "outputs": [
    {
     "data": {
      "text/plain": [
       "main_category        8.038960\n",
       "title                0.000000\n",
       "average_rating       0.000000\n",
       "rating_number        0.000000\n",
       "features             0.000000\n",
       "description          0.000000\n",
       "price               54.827383\n",
       "images               0.000000\n",
       "videos               0.000000\n",
       "store                3.176974\n",
       "categories           0.000000\n",
       "details              0.000000\n",
       "parent_asin          0.000000\n",
       "bought_together    100.000000\n",
       "subtitle            99.745026\n",
       "author              99.809134\n",
       "dtype: float64"
      ]
     },
     "execution_count": 47,
     "metadata": {},
     "output_type": "execute_result"
    }
   ],
   "source": [
    "# Checking Missing Values\n",
    "df_meta_VGames.isna().sum()*100/df_meta_VGames.shape[0]"
   ]
  },
  {
   "cell_type": "markdown",
   "metadata": {},
   "source": [
    "#### Notes :\n",
    "\n",
    "subtitle,author  and bought_together are to be deleted, Price will be deleted since that this info is not necessary for reviews"
   ]
  },
  {
   "cell_type": "code",
   "execution_count": 48,
   "metadata": {},
   "outputs": [],
   "source": [
    "df_meta_VGames.drop([\"bought_together\",\"author\",\"subtitle\",\"price\"], axis=1, inplace=True)"
   ]
  },
  {
   "cell_type": "markdown",
   "metadata": {},
   "source": [
    "Yet other column has a different type that doesn't get detected by the function \"isna\", which are the lists, so the following is a speciale analysis to evaluate them"
   ]
  },
  {
   "cell_type": "code",
   "execution_count": 49,
   "metadata": {},
   "outputs": [
    {
     "name": "stdout",
     "output_type": "stream",
     "text": [
      "All lines count :  137269\n",
      "description null values :  51730  Null Pourcentage 38%\n",
      "videos null values :  108356  Null Pourcentage 79%\n",
      "details null values :  3422  Null Pourcentage 2%\n",
      "categories null values :  12637  Null Pourcentage 9%\n",
      "features null values :  39498  Null Pourcentage 29%\n",
      "images null values :  142  Null Pourcentage 0%\n"
     ]
    }
   ],
   "source": [
    "print(\"All lines count : \", tot:=df_meta_VGames.shape[0]) \n",
    "print(\"description null values : \", count:=df_meta_VGames.description.apply(lambda x: 1 if len(x) == 0 else 0).sum(),f\" Null Pourcentage {round(count*100/tot)}%\")\n",
    "print(\"videos null values : \", count:=df_meta_VGames.videos.apply(lambda x: 1 if len(x) == 0 else 0).sum(),f\" Null Pourcentage {round(count*100/tot)}%\")\n",
    "print(\"details null values : \", count:=df_meta_VGames.details.apply(lambda x: 1 if len(x) == 0 else 0).sum(),f\" Null Pourcentage {round(count*100/tot)}%\")\n",
    "print(\"categories null values : \", count:=df_meta_VGames.categories.apply(lambda x: 1 if len(x) == 0 else 0).sum(),f\" Null Pourcentage {round(count*100/tot)}%\")\n",
    "print(\"features null values : \", count:=df_meta_VGames.features.apply(lambda x: 1 if len(x) == 0 else 0).sum(),f\" Null Pourcentage {round(count*100/tot)}%\")\n",
    "print(\"images null values : \", count:=df_meta_VGames.images.apply(lambda x: 1 if len(x) == 0 else 0).sum(),f\" Null Pourcentage {round(count*100/tot)}%\")"
   ]
  },
  {
   "cell_type": "markdown",
   "metadata": {},
   "source": [
    "- \"description\" has a high percentage of missing values ==> To be deleted,\n",
    "\n",
    "- In order to assure the comformity with the \"Subscription Box\" data set, we will delete \"description\", \"videos\", \"details\". Also \"Images\" and \"features\" will get the same processing after analysis\n",
    "\n",
    "- Feature has 30% of missing values, so we will opt for kmeans for filling missing values after embeddings"
   ]
  },
  {
   "cell_type": "code",
   "execution_count": 50,
   "metadata": {},
   "outputs": [],
   "source": [
    "# To be deleted\n",
    "df_meta_VGames.drop([\"description\",\"videos\",\"details\",\"categories\"], axis=1, inplace=True)"
   ]
  },
  {
   "cell_type": "code",
   "execution_count": 51,
   "metadata": {},
   "outputs": [
    {
     "data": {
      "text/plain": [
       "<Axes: ylabel='Density'>"
      ]
     },
     "execution_count": 51,
     "metadata": {},
     "output_type": "execute_result"
    },
    {
     "data": {
      "image/png": "[encoded data removed]",
      "text/plain": [
       "<Figure size 640x480 with 1 Axes>"
      ]
     },
     "metadata": {},
     "output_type": "display_data"
    }
   ],
   "source": [
    "# Images\n",
    "df_meta_VGames.images.apply(len).plot(kind=\"density\")"
   ]
  },
  {
   "cell_type": "code",
   "execution_count": 52,
   "metadata": {},
   "outputs": [],
   "source": [
    "df_meta_VGames.images = df_meta_VGames.images.apply(len)"
   ]
  },
  {
   "cell_type": "code",
   "execution_count": 53,
   "metadata": {},
   "outputs": [
    {
     "data": {
      "text/plain": [
       "<Axes: ylabel='Density'>"
      ]
     },
     "execution_count": 53,
     "metadata": {},
     "output_type": "execute_result"
    },
    {
     "data": {
      "image/png": "[encoded data removed]",
      "text/plain": [
       "<Figure size 640x480 with 1 Axes>"
      ]
     },
     "metadata": {},
     "output_type": "display_data"
    }
   ],
   "source": [
    "# features\n",
    "df_meta_VGames.features.apply(len).plot(kind=\"density\") # Reminder using a count function by token will give more accurate analysis"
   ]
  },
  {
   "cell_type": "markdown",
   "metadata": {},
   "source": [
    "The first thing to notice is that we have some products with features a big lenght of features, so we will evaluate them to decide whether its better to remove them.\n",
    "\n",
    "The evaluation will be made even though these products exists on the last ~10% percentile, because the number of reviews could be higher than expected"
   ]
  },
  {
   "cell_type": "code",
   "execution_count": 54,
   "metadata": {},
   "outputs": [
    {
     "data": {
      "text/plain": [
       "'108'"
      ]
     },
     "execution_count": 54,
     "metadata": {},
     "output_type": "execute_result"
    }
   ],
   "source": [
    "draft = df_meta_VGames[df_meta_VGames.features.apply(len)>10]\n",
    "(f\"{draft.parent_asin.nunique()}\")"
   ]
  },
  {
   "cell_type": "code",
   "execution_count": 55,
   "metadata": {},
   "outputs": [
    {
     "name": "stdout",
     "output_type": "stream",
     "text": [
      " pourcentage of reviews coming into products with more than 10 elements in features :  0.8346435115130929%\n",
      " Count of reviews coming into products with more than 10 elements in features :  279902\n"
     ]
    }
   ],
   "source": [
    "print(f\" pourcentage of reviews coming into products with more than 10 elements in features :  {(draft.rating_number.sum()*100/df_meta_VGames.rating_number.sum())}%\")\n",
    "print(f\" Count of reviews coming into products with more than 10 elements in features :  {draft.rating_number.sum()}\")"
   ]
  },
  {
   "cell_type": "code",
   "execution_count": 56,
   "metadata": {},
   "outputs": [
    {
     "data": {
      "text/plain": [
       "<Axes: ylabel='Density'>"
      ]
     },
     "execution_count": 56,
     "metadata": {},
     "output_type": "execute_result"
    },
    {
     "data": {
      "image/png": "[encoded data removed]",
      "text/plain": [
       "<Figure size 640x480 with 1 Axes>"
      ]
     },
     "metadata": {},
     "output_type": "display_data"
    }
   ],
   "source": [
    "# Analysis by product (parent_asin)\n",
    "df_meta_VGames.groupby(by=\"parent_asin\").agg({\"rating_number\":\"sum\"}).rating_number.plot(kind='density') # number of reviews per product distribution"
   ]
  },
  {
   "cell_type": "code",
   "execution_count": 57,
   "metadata": {},
   "outputs": [
    {
     "data": {
      "text/html": [
       "<div>\n",
       "<style scoped>\n",
       "    .dataframe tbody tr th:only-of-type {\n",
       "        vertical-align: middle;\n",
       "    }\n",
       "\n",
       "    .dataframe tbody tr th {\n",
       "        vertical-align: top;\n",
       "    }\n",
       "\n",
       "    .dataframe thead th {\n",
       "        text-align: right;\n",
       "    }\n",
       "</style>\n",
       "<table border=\"1\" class=\"dataframe\">\n",
       "  <thead>\n",
       "    <tr style=\"text-align: right;\">\n",
       "      <th></th>\n",
       "      <th>rating_number</th>\n",
       "    </tr>\n",
       "    <tr>\n",
       "      <th>parent_asin</th>\n",
       "      <th></th>\n",
       "    </tr>\n",
       "  </thead>\n",
       "  <tbody>\n",
       "    <tr>\n",
       "      <th>B06X91N86D</th>\n",
       "      <td>1</td>\n",
       "    </tr>\n",
       "    <tr>\n",
       "      <th>B06XC8DBPJ</th>\n",
       "      <td>1</td>\n",
       "    </tr>\n",
       "    <tr>\n",
       "      <th>B06XDM88GS</th>\n",
       "      <td>1</td>\n",
       "    </tr>\n",
       "    <tr>\n",
       "      <th>B06X18BPKJ</th>\n",
       "      <td>1</td>\n",
       "    </tr>\n",
       "    <tr>\n",
       "      <th>B06X18DM5S</th>\n",
       "      <td>1</td>\n",
       "    </tr>\n",
       "    <tr>\n",
       "      <th>...</th>\n",
       "      <td>...</td>\n",
       "    </tr>\n",
       "    <tr>\n",
       "      <th>B00PB8N364</th>\n",
       "      <td>129962</td>\n",
       "    </tr>\n",
       "    <tr>\n",
       "      <th>B07V8YSBFG</th>\n",
       "      <td>139255</td>\n",
       "    </tr>\n",
       "    <tr>\n",
       "      <th>B07KRWJCQW</th>\n",
       "      <td>171822</td>\n",
       "    </tr>\n",
       "    <tr>\n",
       "      <th>B0BL65X86R</th>\n",
       "      <td>261278</td>\n",
       "    </tr>\n",
       "    <tr>\n",
       "      <th>B0C3KYVDWT</th>\n",
       "      <td>278574</td>\n",
       "    </tr>\n",
       "  </tbody>\n",
       "</table>\n",
       "<p>137269 rows × 1 columns</p>\n",
       "</div>"
      ],
      "text/plain": [
       "             rating_number\n",
       "parent_asin               \n",
       "B06X91N86D               1\n",
       "B06XC8DBPJ               1\n",
       "B06XDM88GS               1\n",
       "B06X18BPKJ               1\n",
       "B06X18DM5S               1\n",
       "...                    ...\n",
       "B00PB8N364          129962\n",
       "B07V8YSBFG          139255\n",
       "B07KRWJCQW          171822\n",
       "B0BL65X86R          261278\n",
       "B0C3KYVDWT          278574\n",
       "\n",
       "[137269 rows x 1 columns]"
      ]
     },
     "execution_count": 57,
     "metadata": {},
     "output_type": "execute_result"
    }
   ],
   "source": [
    "# Number of reviews per product\n",
    "draft_ = df_meta_VGames.groupby(by=\"parent_asin\").agg({\"rating_number\":\"sum\"}).sort_values(by='rating_number')\n",
    "draft_"
   ]
  },
  {
   "cell_type": "code",
   "execution_count": 58,
   "metadata": {},
   "outputs": [
    {
     "data": {
      "text/html": [
       "<div>\n",
       "<style scoped>\n",
       "    .dataframe tbody tr th:only-of-type {\n",
       "        vertical-align: middle;\n",
       "    }\n",
       "\n",
       "    .dataframe tbody tr th {\n",
       "        vertical-align: top;\n",
       "    }\n",
       "\n",
       "    .dataframe thead th {\n",
       "        text-align: right;\n",
       "    }\n",
       "</style>\n",
       "<table border=\"1\" class=\"dataframe\">\n",
       "  <thead>\n",
       "    <tr style=\"text-align: right;\">\n",
       "      <th></th>\n",
       "      <th>main_category</th>\n",
       "      <th>title</th>\n",
       "      <th>average_rating</th>\n",
       "      <th>rating_number</th>\n",
       "      <th>features</th>\n",
       "      <th>images</th>\n",
       "      <th>store</th>\n",
       "      <th>parent_asin</th>\n",
       "    </tr>\n",
       "  </thead>\n",
       "  <tbody>\n",
       "    <tr>\n",
       "      <th>1766</th>\n",
       "      <td>Video Games</td>\n",
       "      <td>$25 PlayStation Store Gift Card [Digital Code]</td>\n",
       "      <td>4.7</td>\n",
       "      <td>261278</td>\n",
       "      <td>[Must be 18+yrs and have an account for PlaySt...</td>\n",
       "      <td>3</td>\n",
       "      <td>PlayStation</td>\n",
       "      <td>B0BL65X86R</td>\n",
       "    </tr>\n",
       "    <tr>\n",
       "      <th>25881</th>\n",
       "      <td>Computers</td>\n",
       "      <td>SanDisk 128GB microSDXC-Card, Licensed for Nin...</td>\n",
       "      <td>4.9</td>\n",
       "      <td>278574</td>\n",
       "      <td>[Incredible speeds in a microSD card officiall...</td>\n",
       "      <td>8</td>\n",
       "      <td>SanDisk</td>\n",
       "      <td>B0C3KYVDWT</td>\n",
       "    </tr>\n",
       "  </tbody>\n",
       "</table>\n",
       "</div>"
      ],
      "text/plain": [
       "      main_category                                              title  \\\n",
       "1766    Video Games     $25 PlayStation Store Gift Card [Digital Code]   \n",
       "25881     Computers  SanDisk 128GB microSDXC-Card, Licensed for Nin...   \n",
       "\n",
       "       average_rating  rating_number  \\\n",
       "1766              4.7         261278   \n",
       "25881             4.9         278574   \n",
       "\n",
       "                                                features  images        store  \\\n",
       "1766   [Must be 18+yrs and have an account for PlaySt...       3  PlayStation   \n",
       "25881  [Incredible speeds in a microSD card officiall...       8      SanDisk   \n",
       "\n",
       "      parent_asin  \n",
       "1766   B0BL65X86R  \n",
       "25881  B0C3KYVDWT  "
      ]
     },
     "execution_count": 58,
     "metadata": {},
     "output_type": "execute_result"
    }
   ],
   "source": [
    "# Zoom in on a selection of products with high number of reviews\n",
    "draft_list = list(draft_[-2:].index) # Selection of products with the highest number of reviews\n",
    "df_meta_VGames[df_meta_VGames.parent_asin.isin(draft_list)]"
   ]
  },
  {
   "cell_type": "code",
   "execution_count": 59,
   "metadata": {},
   "outputs": [
    {
     "name": "stdout",
     "output_type": "stream",
     "text": [
      "Percentage of these reviews (last data frame) :   1.6097918877941788%\n",
      "Count of these reviews :   539852\n"
     ]
    }
   ],
   "source": [
    "print(f\"Percentage of these reviews (last data frame) :   {(count:=draft_.rating_number.iloc[-2:].sum())*100/draft_.rating_number.sum()}%\")\n",
    "print(f\"Count of these reviews :   {count}\")"
   ]
  },
  {
   "cell_type": "markdown",
   "metadata": {},
   "source": [
    "- Focusing only on this data set will bring us ahead of our target (1M transaction), so we will focus only on these 2 products."
   ]
  },
  {
   "cell_type": "code",
   "execution_count": 60,
   "metadata": {},
   "outputs": [],
   "source": [
    "df_meta_VGames = df_meta_VGames[df_meta_VGames.parent_asin.isin(draft_list)]"
   ]
  },
  {
   "cell_type": "code",
   "execution_count": 61,
   "metadata": {},
   "outputs": [
    {
     "data": {
      "text/plain": [
       "<Axes: ylabel='Density'>"
      ]
     },
     "execution_count": 61,
     "metadata": {},
     "output_type": "execute_result"
    },
    {
     "data": {
      "image/png": "[encoded data removed]",
      "text/plain": [
       "<Figure size 640x480 with 1 Axes>"
      ]
     },
     "metadata": {},
     "output_type": "display_data"
    }
   ],
   "source": [
    "# Calculating number of tokens per row\n",
    "df_meta_VGames.features.apply(lambda l:sum([len(x) for x in l])).plot(kind=\"density\")  # the len can be replaced by a special function for word counting"
   ]
  },
  {
   "cell_type": "code",
   "execution_count": 62,
   "metadata": {},
   "outputs": [],
   "source": [
    "# Processing the text format into one str for future embedding\n",
    "df_meta_VGames.features = df_meta_VGames.features.apply(lambda x:' '.join(x))"
   ]
  },
  {
   "cell_type": "code",
   "execution_count": 63,
   "metadata": {},
   "outputs": [
    {
     "data": {
      "text/html": [
       "<div>\n",
       "<style scoped>\n",
       "    .dataframe tbody tr th:only-of-type {\n",
       "        vertical-align: middle;\n",
       "    }\n",
       "\n",
       "    .dataframe tbody tr th {\n",
       "        vertical-align: top;\n",
       "    }\n",
       "\n",
       "    .dataframe thead th {\n",
       "        text-align: right;\n",
       "    }\n",
       "</style>\n",
       "<table border=\"1\" class=\"dataframe\">\n",
       "  <thead>\n",
       "    <tr style=\"text-align: right;\">\n",
       "      <th></th>\n",
       "      <th>main_category</th>\n",
       "      <th>title</th>\n",
       "      <th>average_rating</th>\n",
       "      <th>rating_number</th>\n",
       "      <th>features</th>\n",
       "      <th>images</th>\n",
       "      <th>store</th>\n",
       "      <th>parent_asin</th>\n",
       "    </tr>\n",
       "  </thead>\n",
       "  <tbody>\n",
       "    <tr>\n",
       "      <th>1766</th>\n",
       "      <td>Video Games</td>\n",
       "      <td>$25 PlayStation Store Gift Card [Digital Code]</td>\n",
       "      <td>4.7</td>\n",
       "      <td>261278</td>\n",
       "      <td>Must be 18+yrs and have an account for PlaySta...</td>\n",
       "      <td>3</td>\n",
       "      <td>PlayStation</td>\n",
       "      <td>B0BL65X86R</td>\n",
       "    </tr>\n",
       "    <tr>\n",
       "      <th>25881</th>\n",
       "      <td>Computers</td>\n",
       "      <td>SanDisk 128GB microSDXC-Card, Licensed for Nin...</td>\n",
       "      <td>4.9</td>\n",
       "      <td>278574</td>\n",
       "      <td>Incredible speeds in a microSD card officially...</td>\n",
       "      <td>8</td>\n",
       "      <td>SanDisk</td>\n",
       "      <td>B0C3KYVDWT</td>\n",
       "    </tr>\n",
       "  </tbody>\n",
       "</table>\n",
       "</div>"
      ],
      "text/plain": [
       "      main_category                                              title  \\\n",
       "1766    Video Games     $25 PlayStation Store Gift Card [Digital Code]   \n",
       "25881     Computers  SanDisk 128GB microSDXC-Card, Licensed for Nin...   \n",
       "\n",
       "       average_rating  rating_number  \\\n",
       "1766              4.7         261278   \n",
       "25881             4.9         278574   \n",
       "\n",
       "                                                features  images        store  \\\n",
       "1766   Must be 18+yrs and have an account for PlaySta...       3  PlayStation   \n",
       "25881  Incredible speeds in a microSD card officially...       8      SanDisk   \n",
       "\n",
       "      parent_asin  \n",
       "1766   B0BL65X86R  \n",
       "25881  B0C3KYVDWT  "
      ]
     },
     "execution_count": 63,
     "metadata": {},
     "output_type": "execute_result"
    }
   ],
   "source": [
    "df_meta_VGames.head()"
   ]
  },
  {
   "cell_type": "markdown",
   "metadata": {},
   "source": [
    "The last feature to be analysed is the main category."
   ]
  },
  {
   "cell_type": "code",
   "execution_count": 64,
   "metadata": {},
   "outputs": [
    {
     "data": {
      "text/plain": [
       "main_category\n",
       "Video Games    1\n",
       "Computers      1\n",
       "Name: count, dtype: int64"
      ]
     },
     "execution_count": 64,
     "metadata": {},
     "output_type": "execute_result"
    }
   ],
   "source": [
    "df_meta_VGames.main_category.value_counts()"
   ]
  },
  {
   "cell_type": "markdown",
   "metadata": {},
   "source": [
    "since the category has only one value, it would be possible for it to be deleted if the information was not needed in the model"
   ]
  },
  {
   "cell_type": "markdown",
   "metadata": {},
   "source": [
    "## Reviews data\n",
    "\n",
    "The challenge with this data is to read while applying the filters deducted from the meta data analysis\n",
    "\n",
    "Also as a to optimize more the dataset, we will focus more on the range of years between 2016-2019 ( to get a smaller size of data as well as avoiding the covid effect)"
   ]
  },
  {
   "cell_type": "markdown",
   "metadata": {},
   "source": [
    "### Subscription Boxes"
   ]
  },
  {
   "cell_type": "code",
   "execution_count": 65,
   "metadata": {},
   "outputs": [],
   "source": [
    "# Defining conditions\n",
    "descired_products = list(df_meta_SubBox.parent_asin.values)\n",
    "descired_years = [i for i in range(2015,2019)]"
   ]
  },
  {
   "cell_type": "code",
   "execution_count": 66,
   "metadata": {},
   "outputs": [
    {
     "name": "stderr",
     "output_type": "stream",
     "text": [
      "3761it [00:00, 12570.58it/s]"
     ]
    },
    {
     "name": "stderr",
     "output_type": "stream",
     "text": [
      "16216it [00:01, 12615.26it/s]"
     ]
    },
    {
     "name": "stdout",
     "output_type": "stream",
     "text": [
      "1915\n"
     ]
    },
    {
     "name": "stderr",
     "output_type": "stream",
     "text": [
      "\n"
     ]
    }
   ],
   "source": [
    "import jsonlines\n",
    "from tqdm import tqdm\n",
    "\n",
    "# Read and filter data\n",
    "filtered_data = []\n",
    "with jsonlines.open('data/Subscription_Boxes.jsonl') as reader:\n",
    "    for obj in tqdm(reader):\n",
    "        if (obj['parent_asin'] in descired_products)&(pd.to_datetime(obj[\"timestamp\"], errors='coerce', unit='ms').year in descired_years):\n",
    "            filtered_data.append(obj)\n",
    "print(len(filtered_data))"
   ]
  },
  {
   "cell_type": "code",
   "execution_count": 67,
   "metadata": {},
   "outputs": [
    {
     "data": {
      "text/html": [
       "<div>\n",
       "<style scoped>\n",
       "    .dataframe tbody tr th:only-of-type {\n",
       "        vertical-align: middle;\n",
       "    }\n",
       "\n",
       "    .dataframe tbody tr th {\n",
       "        vertical-align: top;\n",
       "    }\n",
       "\n",
       "    .dataframe thead th {\n",
       "        text-align: right;\n",
       "    }\n",
       "</style>\n",
       "<table border=\"1\" class=\"dataframe\">\n",
       "  <thead>\n",
       "    <tr style=\"text-align: right;\">\n",
       "      <th></th>\n",
       "      <th>rating</th>\n",
       "      <th>title</th>\n",
       "      <th>text</th>\n",
       "      <th>images</th>\n",
       "      <th>asin</th>\n",
       "      <th>parent_asin</th>\n",
       "      <th>user_id</th>\n",
       "      <th>timestamp</th>\n",
       "      <th>helpful_vote</th>\n",
       "      <th>verified_purchase</th>\n",
       "    </tr>\n",
       "  </thead>\n",
       "  <tbody>\n",
       "    <tr>\n",
       "      <th>0</th>\n",
       "      <td>5.0</td>\n",
       "      <td>Bezos Forever</td>\n",
       "      <td>Santa 🎅 picking stuff. Santa cool. Mommy payin...</td>\n",
       "      <td>[]</td>\n",
       "      <td>B01M7UDAVI</td>\n",
       "      <td>B01M7UDAVI</td>\n",
       "      <td>AHTDREL6WJZKDE6HX5S3PYVSUXOA</td>\n",
       "      <td>1527642051491</td>\n",
       "      <td>2</td>\n",
       "      <td>True</td>\n",
       "    </tr>\n",
       "    <tr>\n",
       "      <th>1</th>\n",
       "      <td>2.0</td>\n",
       "      <td>not sure this really is worth it, maybe if ...</td>\n",
       "      <td>not sure this really is worth it, maybe if the...</td>\n",
       "      <td>[]</td>\n",
       "      <td>B0742LVLMJ</td>\n",
       "      <td>B07N1572VL</td>\n",
       "      <td>AEVVYSXOU37J2NGR4246HG36O34A</td>\n",
       "      <td>1528243734450</td>\n",
       "      <td>0</td>\n",
       "      <td>True</td>\n",
       "    </tr>\n",
       "    <tr>\n",
       "      <th>2</th>\n",
       "      <td>5.0</td>\n",
       "      <td>Five Stars</td>\n",
       "      <td>fun,  great products</td>\n",
       "      <td>[]</td>\n",
       "      <td>B0742LVLMJ</td>\n",
       "      <td>B07N1572VL</td>\n",
       "      <td>AFQI5XYLCHRYESI6D7Y2PE6JDY5Q</td>\n",
       "      <td>1522861570853</td>\n",
       "      <td>0</td>\n",
       "      <td>True</td>\n",
       "    </tr>\n",
       "    <tr>\n",
       "      <th>3</th>\n",
       "      <td>5.0</td>\n",
       "      <td>Love Allure!!</td>\n",
       "      <td>Subbing through Amazon is the way to go! My bo...</td>\n",
       "      <td>[]</td>\n",
       "      <td>B0742LVLMJ</td>\n",
       "      <td>B07N1572VL</td>\n",
       "      <td>AGZZ64TPIWVZJPV72BJVFRNRZKBA</td>\n",
       "      <td>1540582444384</td>\n",
       "      <td>0</td>\n",
       "      <td>True</td>\n",
       "    </tr>\n",
       "    <tr>\n",
       "      <th>4</th>\n",
       "      <td>3.0</td>\n",
       "      <td>Good sample sizes</td>\n",
       "      <td>Sample size was good but colors not appropriat...</td>\n",
       "      <td>[]</td>\n",
       "      <td>B0742LVLMJ</td>\n",
       "      <td>B07N1572VL</td>\n",
       "      <td>AFNROKKDJJV3ALTVVMBNGESZTD6A</td>\n",
       "      <td>1517840411168</td>\n",
       "      <td>2</td>\n",
       "      <td>True</td>\n",
       "    </tr>\n",
       "  </tbody>\n",
       "</table>\n",
       "</div>"
      ],
      "text/plain": [
       "   rating                                           title  \\\n",
       "0     5.0                                   Bezos Forever   \n",
       "1     2.0  not sure this really is worth it, maybe if ...   \n",
       "2     5.0                                      Five Stars   \n",
       "3     5.0                                   Love Allure!!   \n",
       "4     3.0                               Good sample sizes   \n",
       "\n",
       "                                                text images        asin  \\\n",
       "0  Santa 🎅 picking stuff. Santa cool. Mommy payin...     []  B01M7UDAVI   \n",
       "1  not sure this really is worth it, maybe if the...     []  B0742LVLMJ   \n",
       "2                               fun,  great products     []  B0742LVLMJ   \n",
       "3  Subbing through Amazon is the way to go! My bo...     []  B0742LVLMJ   \n",
       "4  Sample size was good but colors not appropriat...     []  B0742LVLMJ   \n",
       "\n",
       "  parent_asin                       user_id      timestamp  helpful_vote  \\\n",
       "0  B01M7UDAVI  AHTDREL6WJZKDE6HX5S3PYVSUXOA  1527642051491             2   \n",
       "1  B07N1572VL  AEVVYSXOU37J2NGR4246HG36O34A  1528243734450             0   \n",
       "2  B07N1572VL  AFQI5XYLCHRYESI6D7Y2PE6JDY5Q  1522861570853             0   \n",
       "3  B07N1572VL  AGZZ64TPIWVZJPV72BJVFRNRZKBA  1540582444384             0   \n",
       "4  B07N1572VL  AFNROKKDJJV3ALTVVMBNGESZTD6A  1517840411168             2   \n",
       "\n",
       "   verified_purchase  \n",
       "0               True  \n",
       "1               True  \n",
       "2               True  \n",
       "3               True  \n",
       "4               True  "
      ]
     },
     "execution_count": 67,
     "metadata": {},
     "output_type": "execute_result"
    }
   ],
   "source": [
    "filtered_data = pd.DataFrame(data = filtered_data)\n",
    "filtered_data.head()"
   ]
  },
  {
   "cell_type": "code",
   "execution_count": 68,
   "metadata": {},
   "outputs": [
    {
     "data": {
      "text/plain": [
       "images\n",
       "0     1821\n",
       "1       61\n",
       "2       18\n",
       "3       12\n",
       "11       1\n",
       "6        1\n",
       "4        1\n",
       "Name: count, dtype: int64"
      ]
     },
     "execution_count": 68,
     "metadata": {},
     "output_type": "execute_result"
    }
   ],
   "source": [
    "# analysisng images because the key is duplicated\n",
    "filtered_data.images.apply(len).value_counts()"
   ]
  },
  {
   "cell_type": "code",
   "execution_count": 69,
   "metadata": {},
   "outputs": [],
   "source": [
    "# We will keep it with the same format as images for meta data\n",
    "filtered_data.images = filtered_data.images.apply(len)\n",
    "# Fixing Tiemstamp format\n",
    "filtered_data.timestamp = filtered_data.timestamp.apply(lambda timestamp : pd.to_datetime(timestamp, errors='coerce', unit='ms') )"
   ]
  },
  {
   "cell_type": "code",
   "execution_count": 70,
   "metadata": {},
   "outputs": [
    {
     "name": "stdout",
     "output_type": "stream",
     "text": [
      "(1915, 17)\n"
     ]
    },
    {
     "data": {
      "text/html": [
       "<div>\n",
       "<style scoped>\n",
       "    .dataframe tbody tr th:only-of-type {\n",
       "        vertical-align: middle;\n",
       "    }\n",
       "\n",
       "    .dataframe tbody tr th {\n",
       "        vertical-align: top;\n",
       "    }\n",
       "\n",
       "    .dataframe thead th {\n",
       "        text-align: right;\n",
       "    }\n",
       "</style>\n",
       "<table border=\"1\" class=\"dataframe\">\n",
       "  <thead>\n",
       "    <tr style=\"text-align: right;\">\n",
       "      <th></th>\n",
       "      <th>rating</th>\n",
       "      <th>title_x</th>\n",
       "      <th>text</th>\n",
       "      <th>images_by_user</th>\n",
       "      <th>asin</th>\n",
       "      <th>parent_asin</th>\n",
       "      <th>user_id</th>\n",
       "      <th>timestamp</th>\n",
       "      <th>helpful_vote</th>\n",
       "      <th>verified_purchase</th>\n",
       "      <th>main_category</th>\n",
       "      <th>title_y</th>\n",
       "      <th>average_rating</th>\n",
       "      <th>rating_number</th>\n",
       "      <th>features</th>\n",
       "      <th>images_of_product</th>\n",
       "      <th>store</th>\n",
       "    </tr>\n",
       "  </thead>\n",
       "  <tbody>\n",
       "    <tr>\n",
       "      <th>0</th>\n",
       "      <td>5.0</td>\n",
       "      <td>Bezos Forever</td>\n",
       "      <td>Santa 🎅 picking stuff. Santa cool. Mommy payin...</td>\n",
       "      <td>0</td>\n",
       "      <td>B01M7UDAVI</td>\n",
       "      <td>B01M7UDAVI</td>\n",
       "      <td>AHTDREL6WJZKDE6HX5S3PYVSUXOA</td>\n",
       "      <td>2018-05-30 01:00:51.491</td>\n",
       "      <td>2</td>\n",
       "      <td>True</td>\n",
       "      <td>SUBSCRIPTION BOXES</td>\n",
       "      <td>STEM Club Toy Subscription: 5-7 year olds</td>\n",
       "      <td>4.4</td>\n",
       "      <td>2376</td>\n",
       "      <td>Subscribe and save up to 40% on STEM Toys Disc...</td>\n",
       "      <td>6</td>\n",
       "      <td>STEM Club</td>\n",
       "    </tr>\n",
       "    <tr>\n",
       "      <th>1</th>\n",
       "      <td>2.0</td>\n",
       "      <td>not sure this really is worth it, maybe if ...</td>\n",
       "      <td>not sure this really is worth it, maybe if the...</td>\n",
       "      <td>0</td>\n",
       "      <td>B0742LVLMJ</td>\n",
       "      <td>B07N1572VL</td>\n",
       "      <td>AEVVYSXOU37J2NGR4246HG36O34A</td>\n",
       "      <td>2018-06-06 00:08:54.450</td>\n",
       "      <td>0</td>\n",
       "      <td>True</td>\n",
       "      <td>SUBSCRIPTION BOXES</td>\n",
       "      <td>Allure Beauty Box - The Best in Beauty Deliver...</td>\n",
       "      <td>4.2</td>\n",
       "      <td>8521</td>\n",
       "      <td>The best in beauty delivered monthly: premium ...</td>\n",
       "      <td>6</td>\n",
       "      <td>Allure Beauty Box</td>\n",
       "    </tr>\n",
       "    <tr>\n",
       "      <th>2</th>\n",
       "      <td>5.0</td>\n",
       "      <td>Five Stars</td>\n",
       "      <td>fun,  great products</td>\n",
       "      <td>0</td>\n",
       "      <td>B0742LVLMJ</td>\n",
       "      <td>B07N1572VL</td>\n",
       "      <td>AFQI5XYLCHRYESI6D7Y2PE6JDY5Q</td>\n",
       "      <td>2018-04-04 17:06:10.853</td>\n",
       "      <td>0</td>\n",
       "      <td>True</td>\n",
       "      <td>SUBSCRIPTION BOXES</td>\n",
       "      <td>Allure Beauty Box - The Best in Beauty Deliver...</td>\n",
       "      <td>4.2</td>\n",
       "      <td>8521</td>\n",
       "      <td>The best in beauty delivered monthly: premium ...</td>\n",
       "      <td>6</td>\n",
       "      <td>Allure Beauty Box</td>\n",
       "    </tr>\n",
       "    <tr>\n",
       "      <th>3</th>\n",
       "      <td>5.0</td>\n",
       "      <td>Love Allure!!</td>\n",
       "      <td>Subbing through Amazon is the way to go! My bo...</td>\n",
       "      <td>0</td>\n",
       "      <td>B0742LVLMJ</td>\n",
       "      <td>B07N1572VL</td>\n",
       "      <td>AGZZ64TPIWVZJPV72BJVFRNRZKBA</td>\n",
       "      <td>2018-10-26 19:34:04.384</td>\n",
       "      <td>0</td>\n",
       "      <td>True</td>\n",
       "      <td>SUBSCRIPTION BOXES</td>\n",
       "      <td>Allure Beauty Box - The Best in Beauty Deliver...</td>\n",
       "      <td>4.2</td>\n",
       "      <td>8521</td>\n",
       "      <td>The best in beauty delivered monthly: premium ...</td>\n",
       "      <td>6</td>\n",
       "      <td>Allure Beauty Box</td>\n",
       "    </tr>\n",
       "    <tr>\n",
       "      <th>4</th>\n",
       "      <td>3.0</td>\n",
       "      <td>Good sample sizes</td>\n",
       "      <td>Sample size was good but colors not appropriat...</td>\n",
       "      <td>0</td>\n",
       "      <td>B0742LVLMJ</td>\n",
       "      <td>B07N1572VL</td>\n",
       "      <td>AFNROKKDJJV3ALTVVMBNGESZTD6A</td>\n",
       "      <td>2018-02-05 14:20:11.168</td>\n",
       "      <td>2</td>\n",
       "      <td>True</td>\n",
       "      <td>SUBSCRIPTION BOXES</td>\n",
       "      <td>Allure Beauty Box - The Best in Beauty Deliver...</td>\n",
       "      <td>4.2</td>\n",
       "      <td>8521</td>\n",
       "      <td>The best in beauty delivered monthly: premium ...</td>\n",
       "      <td>6</td>\n",
       "      <td>Allure Beauty Box</td>\n",
       "    </tr>\n",
       "  </tbody>\n",
       "</table>\n",
       "</div>"
      ],
      "text/plain": [
       "   rating                                         title_x  \\\n",
       "0     5.0                                   Bezos Forever   \n",
       "1     2.0  not sure this really is worth it, maybe if ...   \n",
       "2     5.0                                      Five Stars   \n",
       "3     5.0                                   Love Allure!!   \n",
       "4     3.0                               Good sample sizes   \n",
       "\n",
       "                                                text  images_by_user  \\\n",
       "0  Santa 🎅 picking stuff. Santa cool. Mommy payin...               0   \n",
       "1  not sure this really is worth it, maybe if the...               0   \n",
       "2                               fun,  great products               0   \n",
       "3  Subbing through Amazon is the way to go! My bo...               0   \n",
       "4  Sample size was good but colors not appropriat...               0   \n",
       "\n",
       "         asin parent_asin                       user_id  \\\n",
       "0  B01M7UDAVI  B01M7UDAVI  AHTDREL6WJZKDE6HX5S3PYVSUXOA   \n",
       "1  B0742LVLMJ  B07N1572VL  AEVVYSXOU37J2NGR4246HG36O34A   \n",
       "2  B0742LVLMJ  B07N1572VL  AFQI5XYLCHRYESI6D7Y2PE6JDY5Q   \n",
       "3  B0742LVLMJ  B07N1572VL  AGZZ64TPIWVZJPV72BJVFRNRZKBA   \n",
       "4  B0742LVLMJ  B07N1572VL  AFNROKKDJJV3ALTVVMBNGESZTD6A   \n",
       "\n",
       "                timestamp  helpful_vote  verified_purchase  \\\n",
       "0 2018-05-30 01:00:51.491             2               True   \n",
       "1 2018-06-06 00:08:54.450             0               True   \n",
       "2 2018-04-04 17:06:10.853             0               True   \n",
       "3 2018-10-26 19:34:04.384             0               True   \n",
       "4 2018-02-05 14:20:11.168             2               True   \n",
       "\n",
       "        main_category                                            title_y  \\\n",
       "0  SUBSCRIPTION BOXES          STEM Club Toy Subscription: 5-7 year olds   \n",
       "1  SUBSCRIPTION BOXES  Allure Beauty Box - The Best in Beauty Deliver...   \n",
       "2  SUBSCRIPTION BOXES  Allure Beauty Box - The Best in Beauty Deliver...   \n",
       "3  SUBSCRIPTION BOXES  Allure Beauty Box - The Best in Beauty Deliver...   \n",
       "4  SUBSCRIPTION BOXES  Allure Beauty Box - The Best in Beauty Deliver...   \n",
       "\n",
       "   average_rating  rating_number  \\\n",
       "0             4.4           2376   \n",
       "1             4.2           8521   \n",
       "2             4.2           8521   \n",
       "3             4.2           8521   \n",
       "4             4.2           8521   \n",
       "\n",
       "                                            features  images_of_product  \\\n",
       "0  Subscribe and save up to 40% on STEM Toys Disc...                  6   \n",
       "1  The best in beauty delivered monthly: premium ...                  6   \n",
       "2  The best in beauty delivered monthly: premium ...                  6   \n",
       "3  The best in beauty delivered monthly: premium ...                  6   \n",
       "4  The best in beauty delivered monthly: premium ...                  6   \n",
       "\n",
       "               store  \n",
       "0          STEM Club  \n",
       "1  Allure Beauty Box  \n",
       "2  Allure Beauty Box  \n",
       "3  Allure Beauty Box  \n",
       "4  Allure Beauty Box  "
      ]
     },
     "execution_count": 70,
     "metadata": {},
     "output_type": "execute_result"
    }
   ],
   "source": [
    "df_SubBox = pd.merge(\n",
    "    filtered_data.rename(columns={'images' : 'images_by_user'}), \n",
    "    df_meta_SubBox.rename(columns={'images' : 'images_of_product'}),\n",
    "    on='parent_asin'\n",
    "    )\n",
    "print(df_SubBox.shape)\n",
    "df_SubBox.head()"
   ]
  },
  {
   "cell_type": "code",
   "execution_count": null,
   "metadata": {},
   "outputs": [],
   "source": [
    "# Removing duplicated lines\n",
    "df_SubBox.drop_duplicates(inplace=True)"
   ]
  },
  {
   "cell_type": "code",
   "execution_count": 90,
   "metadata": {},
   "outputs": [],
   "source": [
    "df_SubBox.to_csv(\"data/processed_data/processed_Subscription_box.csv\", index=False)"
   ]
  },
  {
   "cell_type": "markdown",
   "metadata": {},
   "source": [
    "### Software"
   ]
  },
  {
   "cell_type": "code",
   "execution_count": 73,
   "metadata": {},
   "outputs": [],
   "source": [
    "# Defining conditions\n",
    "descired_products = list(df_meta_Soft.parent_asin.values)\n",
    "descired_years = [i for i in range(2015,2019)]"
   ]
  },
  {
   "cell_type": "code",
   "execution_count": 74,
   "metadata": {},
   "outputs": [
    {
     "name": "stderr",
     "output_type": "stream",
     "text": [
      "4880181it [06:10, 13154.58it/s]"
     ]
    },
    {
     "name": "stdout",
     "output_type": "stream",
     "text": [
      "23343\n"
     ]
    },
    {
     "name": "stderr",
     "output_type": "stream",
     "text": [
      "\n"
     ]
    }
   ],
   "source": [
    "import jsonlines\n",
    "from tqdm import tqdm\n",
    "\n",
    "# Read and filter data\n",
    "filtered_data = []\n",
    "with jsonlines.open('data/Software.jsonl') as reader:\n",
    "    for obj in tqdm(reader):\n",
    "        if (obj['parent_asin'] in descired_products)&(pd.to_datetime(obj[\"timestamp\"], errors='coerce', unit='ms').year in descired_years):\n",
    "            filtered_data.append(obj)\n",
    "print(len(filtered_data))"
   ]
  },
  {
   "cell_type": "code",
   "execution_count": 75,
   "metadata": {},
   "outputs": [
    {
     "data": {
      "text/html": [
       "<div>\n",
       "<style scoped>\n",
       "    .dataframe tbody tr th:only-of-type {\n",
       "        vertical-align: middle;\n",
       "    }\n",
       "\n",
       "    .dataframe tbody tr th {\n",
       "        vertical-align: top;\n",
       "    }\n",
       "\n",
       "    .dataframe thead th {\n",
       "        text-align: right;\n",
       "    }\n",
       "</style>\n",
       "<table border=\"1\" class=\"dataframe\">\n",
       "  <thead>\n",
       "    <tr style=\"text-align: right;\">\n",
       "      <th></th>\n",
       "      <th>rating</th>\n",
       "      <th>title</th>\n",
       "      <th>text</th>\n",
       "      <th>images</th>\n",
       "      <th>asin</th>\n",
       "      <th>parent_asin</th>\n",
       "      <th>user_id</th>\n",
       "      <th>timestamp</th>\n",
       "      <th>helpful_vote</th>\n",
       "      <th>verified_purchase</th>\n",
       "    </tr>\n",
       "  </thead>\n",
       "  <tbody>\n",
       "    <tr>\n",
       "      <th>0</th>\n",
       "      <td>5.0</td>\n",
       "      <td>Perfect</td>\n",
       "      <td>Awesome app works amazing&lt;br /&gt;This is a must</td>\n",
       "      <td>[]</td>\n",
       "      <td>B01N0BP507</td>\n",
       "      <td>B01N0BP507</td>\n",
       "      <td>AF4XAUOI5XPGWHCPOTORKBIJSRDA</td>\n",
       "      <td>1534008928884</td>\n",
       "      <td>0</td>\n",
       "      <td>True</td>\n",
       "    </tr>\n",
       "    <tr>\n",
       "      <th>1</th>\n",
       "      <td>1.0</td>\n",
       "      <td>HUH?</td>\n",
       "      <td>I don't know what this is nor how I supposedly...</td>\n",
       "      <td>[]</td>\n",
       "      <td>B01N0BP507</td>\n",
       "      <td>B01N0BP507</td>\n",
       "      <td>AHU2Y2ZFQKI3V3ARFDKZA6ER4NUQ</td>\n",
       "      <td>1535569310693</td>\n",
       "      <td>0</td>\n",
       "      <td>True</td>\n",
       "    </tr>\n",
       "    <tr>\n",
       "      <th>2</th>\n",
       "      <td>4.0</td>\n",
       "      <td>Four Stars</td>\n",
       "      <td>works well</td>\n",
       "      <td>[]</td>\n",
       "      <td>B01N0BP507</td>\n",
       "      <td>B01N0BP507</td>\n",
       "      <td>AFFH5QKBOZANHO4ZZ7OKL7JFXFUA</td>\n",
       "      <td>1504194213485</td>\n",
       "      <td>0</td>\n",
       "      <td>True</td>\n",
       "    </tr>\n",
       "    <tr>\n",
       "      <th>3</th>\n",
       "      <td>4.0</td>\n",
       "      <td>Downloaded App</td>\n",
       "      <td>Works good</td>\n",
       "      <td>[]</td>\n",
       "      <td>B01N0BP507</td>\n",
       "      <td>B01N0BP507</td>\n",
       "      <td>AEXTSZOMHUDQZ46764RKBNZ2WANA</td>\n",
       "      <td>1496544934000</td>\n",
       "      <td>0</td>\n",
       "      <td>True</td>\n",
       "    </tr>\n",
       "    <tr>\n",
       "      <th>4</th>\n",
       "      <td>5.0</td>\n",
       "      <td>Five Stars</td>\n",
       "      <td>easy download</td>\n",
       "      <td>[]</td>\n",
       "      <td>B01N0BP507</td>\n",
       "      <td>B01N0BP507</td>\n",
       "      <td>AHG6JDNGUQMDCW6MUEVCTQDVONHA</td>\n",
       "      <td>1493744725000</td>\n",
       "      <td>0</td>\n",
       "      <td>True</td>\n",
       "    </tr>\n",
       "  </tbody>\n",
       "</table>\n",
       "</div>"
      ],
      "text/plain": [
       "   rating           title                                               text  \\\n",
       "0     5.0         Perfect      Awesome app works amazing<br />This is a must   \n",
       "1     1.0            HUH?  I don't know what this is nor how I supposedly...   \n",
       "2     4.0      Four Stars                                         works well   \n",
       "3     4.0  Downloaded App                                         Works good   \n",
       "4     5.0      Five Stars                                      easy download   \n",
       "\n",
       "  images        asin parent_asin                       user_id      timestamp  \\\n",
       "0     []  B01N0BP507  B01N0BP507  AF4XAUOI5XPGWHCPOTORKBIJSRDA  1534008928884   \n",
       "1     []  B01N0BP507  B01N0BP507  AHU2Y2ZFQKI3V3ARFDKZA6ER4NUQ  1535569310693   \n",
       "2     []  B01N0BP507  B01N0BP507  AFFH5QKBOZANHO4ZZ7OKL7JFXFUA  1504194213485   \n",
       "3     []  B01N0BP507  B01N0BP507  AEXTSZOMHUDQZ46764RKBNZ2WANA  1496544934000   \n",
       "4     []  B01N0BP507  B01N0BP507  AHG6JDNGUQMDCW6MUEVCTQDVONHA  1493744725000   \n",
       "\n",
       "   helpful_vote  verified_purchase  \n",
       "0             0               True  \n",
       "1             0               True  \n",
       "2             0               True  \n",
       "3             0               True  \n",
       "4             0               True  "
      ]
     },
     "execution_count": 75,
     "metadata": {},
     "output_type": "execute_result"
    }
   ],
   "source": [
    "filtered_data = pd.DataFrame(data = filtered_data)\n",
    "filtered_data.head()"
   ]
  },
  {
   "cell_type": "code",
   "execution_count": 76,
   "metadata": {},
   "outputs": [
    {
     "data": {
      "text/plain": [
       "images\n",
       "0    23290\n",
       "1       48\n",
       "2        3\n",
       "4        1\n",
       "5        1\n",
       "Name: count, dtype: int64"
      ]
     },
     "execution_count": 76,
     "metadata": {},
     "output_type": "execute_result"
    }
   ],
   "source": [
    "# analysisng images because the key is duplicated\n",
    "filtered_data.images.apply(len).value_counts()"
   ]
  },
  {
   "cell_type": "code",
   "execution_count": 77,
   "metadata": {},
   "outputs": [],
   "source": [
    "# We will keep it with the same format as images for meta data\n",
    "filtered_data.images = filtered_data.images.apply(len)\n",
    "# Fixing Tiemstamp format\n",
    "filtered_data.timestamp = filtered_data.timestamp.apply(lambda timestamp : pd.to_datetime(timestamp, errors='coerce', unit='ms') )"
   ]
  },
  {
   "cell_type": "code",
   "execution_count": 78,
   "metadata": {},
   "outputs": [
    {
     "name": "stdout",
     "output_type": "stream",
     "text": [
      "(23343, 17)\n"
     ]
    },
    {
     "data": {
      "text/html": [
       "<div>\n",
       "<style scoped>\n",
       "    .dataframe tbody tr th:only-of-type {\n",
       "        vertical-align: middle;\n",
       "    }\n",
       "\n",
       "    .dataframe tbody tr th {\n",
       "        vertical-align: top;\n",
       "    }\n",
       "\n",
       "    .dataframe thead th {\n",
       "        text-align: right;\n",
       "    }\n",
       "</style>\n",
       "<table border=\"1\" class=\"dataframe\">\n",
       "  <thead>\n",
       "    <tr style=\"text-align: right;\">\n",
       "      <th></th>\n",
       "      <th>rating</th>\n",
       "      <th>title_x</th>\n",
       "      <th>text</th>\n",
       "      <th>images_by_user</th>\n",
       "      <th>asin</th>\n",
       "      <th>parent_asin</th>\n",
       "      <th>user_id</th>\n",
       "      <th>timestamp</th>\n",
       "      <th>helpful_vote</th>\n",
       "      <th>verified_purchase</th>\n",
       "      <th>main_category</th>\n",
       "      <th>title_y</th>\n",
       "      <th>average_rating</th>\n",
       "      <th>rating_number</th>\n",
       "      <th>features</th>\n",
       "      <th>images_of_product</th>\n",
       "      <th>store</th>\n",
       "    </tr>\n",
       "  </thead>\n",
       "  <tbody>\n",
       "    <tr>\n",
       "      <th>0</th>\n",
       "      <td>5.0</td>\n",
       "      <td>Perfect</td>\n",
       "      <td>Awesome app works amazing&lt;br /&gt;This is a must</td>\n",
       "      <td>0</td>\n",
       "      <td>B01N0BP507</td>\n",
       "      <td>B01N0BP507</td>\n",
       "      <td>AF4XAUOI5XPGWHCPOTORKBIJSRDA</td>\n",
       "      <td>2018-08-11 17:35:28.884</td>\n",
       "      <td>0</td>\n",
       "      <td>True</td>\n",
       "      <td>Appstore for Android</td>\n",
       "      <td>Downloader</td>\n",
       "      <td>4.2</td>\n",
       "      <td>672812.0</td>\n",
       "      <td>Download files by entering their URL. Built-in...</td>\n",
       "      <td>21</td>\n",
       "      <td>AFTVnews.com</td>\n",
       "    </tr>\n",
       "    <tr>\n",
       "      <th>1</th>\n",
       "      <td>1.0</td>\n",
       "      <td>HUH?</td>\n",
       "      <td>I don't know what this is nor how I supposedly...</td>\n",
       "      <td>0</td>\n",
       "      <td>B01N0BP507</td>\n",
       "      <td>B01N0BP507</td>\n",
       "      <td>AHU2Y2ZFQKI3V3ARFDKZA6ER4NUQ</td>\n",
       "      <td>2018-08-29 19:01:50.693</td>\n",
       "      <td>0</td>\n",
       "      <td>True</td>\n",
       "      <td>Appstore for Android</td>\n",
       "      <td>Downloader</td>\n",
       "      <td>4.2</td>\n",
       "      <td>672812.0</td>\n",
       "      <td>Download files by entering their URL. Built-in...</td>\n",
       "      <td>21</td>\n",
       "      <td>AFTVnews.com</td>\n",
       "    </tr>\n",
       "    <tr>\n",
       "      <th>2</th>\n",
       "      <td>4.0</td>\n",
       "      <td>Four Stars</td>\n",
       "      <td>works well</td>\n",
       "      <td>0</td>\n",
       "      <td>B01N0BP507</td>\n",
       "      <td>B01N0BP507</td>\n",
       "      <td>AFFH5QKBOZANHO4ZZ7OKL7JFXFUA</td>\n",
       "      <td>2017-08-31 15:43:33.485</td>\n",
       "      <td>0</td>\n",
       "      <td>True</td>\n",
       "      <td>Appstore for Android</td>\n",
       "      <td>Downloader</td>\n",
       "      <td>4.2</td>\n",
       "      <td>672812.0</td>\n",
       "      <td>Download files by entering their URL. Built-in...</td>\n",
       "      <td>21</td>\n",
       "      <td>AFTVnews.com</td>\n",
       "    </tr>\n",
       "    <tr>\n",
       "      <th>3</th>\n",
       "      <td>4.0</td>\n",
       "      <td>Downloaded App</td>\n",
       "      <td>Works good</td>\n",
       "      <td>0</td>\n",
       "      <td>B01N0BP507</td>\n",
       "      <td>B01N0BP507</td>\n",
       "      <td>AEXTSZOMHUDQZ46764RKBNZ2WANA</td>\n",
       "      <td>2017-06-04 02:55:34.000</td>\n",
       "      <td>0</td>\n",
       "      <td>True</td>\n",
       "      <td>Appstore for Android</td>\n",
       "      <td>Downloader</td>\n",
       "      <td>4.2</td>\n",
       "      <td>672812.0</td>\n",
       "      <td>Download files by entering their URL. Built-in...</td>\n",
       "      <td>21</td>\n",
       "      <td>AFTVnews.com</td>\n",
       "    </tr>\n",
       "    <tr>\n",
       "      <th>4</th>\n",
       "      <td>5.0</td>\n",
       "      <td>Five Stars</td>\n",
       "      <td>easy download</td>\n",
       "      <td>0</td>\n",
       "      <td>B01N0BP507</td>\n",
       "      <td>B01N0BP507</td>\n",
       "      <td>AHG6JDNGUQMDCW6MUEVCTQDVONHA</td>\n",
       "      <td>2017-05-02 17:05:25.000</td>\n",
       "      <td>0</td>\n",
       "      <td>True</td>\n",
       "      <td>Appstore for Android</td>\n",
       "      <td>Downloader</td>\n",
       "      <td>4.2</td>\n",
       "      <td>672812.0</td>\n",
       "      <td>Download files by entering their URL. Built-in...</td>\n",
       "      <td>21</td>\n",
       "      <td>AFTVnews.com</td>\n",
       "    </tr>\n",
       "  </tbody>\n",
       "</table>\n",
       "</div>"
      ],
      "text/plain": [
       "   rating         title_x                                               text  \\\n",
       "0     5.0         Perfect      Awesome app works amazing<br />This is a must   \n",
       "1     1.0            HUH?  I don't know what this is nor how I supposedly...   \n",
       "2     4.0      Four Stars                                         works well   \n",
       "3     4.0  Downloaded App                                         Works good   \n",
       "4     5.0      Five Stars                                      easy download   \n",
       "\n",
       "   images_by_user        asin parent_asin                       user_id  \\\n",
       "0               0  B01N0BP507  B01N0BP507  AF4XAUOI5XPGWHCPOTORKBIJSRDA   \n",
       "1               0  B01N0BP507  B01N0BP507  AHU2Y2ZFQKI3V3ARFDKZA6ER4NUQ   \n",
       "2               0  B01N0BP507  B01N0BP507  AFFH5QKBOZANHO4ZZ7OKL7JFXFUA   \n",
       "3               0  B01N0BP507  B01N0BP507  AEXTSZOMHUDQZ46764RKBNZ2WANA   \n",
       "4               0  B01N0BP507  B01N0BP507  AHG6JDNGUQMDCW6MUEVCTQDVONHA   \n",
       "\n",
       "                timestamp  helpful_vote  verified_purchase  \\\n",
       "0 2018-08-11 17:35:28.884             0               True   \n",
       "1 2018-08-29 19:01:50.693             0               True   \n",
       "2 2017-08-31 15:43:33.485             0               True   \n",
       "3 2017-06-04 02:55:34.000             0               True   \n",
       "4 2017-05-02 17:05:25.000             0               True   \n",
       "\n",
       "          main_category     title_y  average_rating  rating_number  \\\n",
       "0  Appstore for Android  Downloader             4.2       672812.0   \n",
       "1  Appstore for Android  Downloader             4.2       672812.0   \n",
       "2  Appstore for Android  Downloader             4.2       672812.0   \n",
       "3  Appstore for Android  Downloader             4.2       672812.0   \n",
       "4  Appstore for Android  Downloader             4.2       672812.0   \n",
       "\n",
       "                                            features  images_of_product  \\\n",
       "0  Download files by entering their URL. Built-in...                 21   \n",
       "1  Download files by entering their URL. Built-in...                 21   \n",
       "2  Download files by entering their URL. Built-in...                 21   \n",
       "3  Download files by entering their URL. Built-in...                 21   \n",
       "4  Download files by entering their URL. Built-in...                 21   \n",
       "\n",
       "          store  \n",
       "0  AFTVnews.com  \n",
       "1  AFTVnews.com  \n",
       "2  AFTVnews.com  \n",
       "3  AFTVnews.com  \n",
       "4  AFTVnews.com  "
      ]
     },
     "execution_count": 78,
     "metadata": {},
     "output_type": "execute_result"
    }
   ],
   "source": [
    "df_Soft = pd.merge(\n",
    "    filtered_data.rename(columns={'images' : 'images_by_user'}), \n",
    "    df_meta_Soft.rename(columns={'images' : 'images_of_product'}),\n",
    "    on='parent_asin'\n",
    "    )\n",
    "print(df_Soft.shape)\n",
    "df_Soft.head()"
   ]
  },
  {
   "cell_type": "code",
   "execution_count": 92,
   "metadata": {},
   "outputs": [],
   "source": [
    "# Removing duplicated lines\n",
    "df_Soft.drop_duplicates(inplace=True)"
   ]
  },
  {
   "cell_type": "code",
   "execution_count": 93,
   "metadata": {},
   "outputs": [],
   "source": [
    "df_Soft.to_csv(\"data/processed_data/processed_Software.csv\", index=False)"
   ]
  },
  {
   "cell_type": "markdown",
   "metadata": {},
   "source": [
    "### Video Games"
   ]
  },
  {
   "cell_type": "code",
   "execution_count": 80,
   "metadata": {},
   "outputs": [],
   "source": [
    "# Defining conditions\n",
    "descired_products = list(df_meta_VGames.parent_asin.values)\n",
    "descired_years = [i for i in range(2015,2019)]"
   ]
  },
  {
   "cell_type": "code",
   "execution_count": 81,
   "metadata": {},
   "outputs": [
    {
     "name": "stderr",
     "output_type": "stream",
     "text": [
      "4624615it [05:56, 12955.32it/s]"
     ]
    },
    {
     "name": "stdout",
     "output_type": "stream",
     "text": [
      "576\n"
     ]
    },
    {
     "name": "stderr",
     "output_type": "stream",
     "text": [
      "\n"
     ]
    }
   ],
   "source": [
    "import jsonlines\n",
    "from tqdm import tqdm\n",
    "\n",
    "# Read and filter data\n",
    "filtered_data = []\n",
    "with jsonlines.open('data/Video_Games.jsonl') as reader:\n",
    "    for obj in tqdm(reader):\n",
    "        if (obj['parent_asin'] in descired_products)&(pd.to_datetime(obj[\"timestamp\"], errors='coerce', unit='ms').year in descired_years):\n",
    "            filtered_data.append(obj)\n",
    "print(len(filtered_data))"
   ]
  },
  {
   "cell_type": "code",
   "execution_count": 82,
   "metadata": {},
   "outputs": [
    {
     "data": {
      "text/html": [
       "<div>\n",
       "<style scoped>\n",
       "    .dataframe tbody tr th:only-of-type {\n",
       "        vertical-align: middle;\n",
       "    }\n",
       "\n",
       "    .dataframe tbody tr th {\n",
       "        vertical-align: top;\n",
       "    }\n",
       "\n",
       "    .dataframe thead th {\n",
       "        text-align: right;\n",
       "    }\n",
       "</style>\n",
       "<table border=\"1\" class=\"dataframe\">\n",
       "  <thead>\n",
       "    <tr style=\"text-align: right;\">\n",
       "      <th></th>\n",
       "      <th>rating</th>\n",
       "      <th>title</th>\n",
       "      <th>text</th>\n",
       "      <th>images</th>\n",
       "      <th>asin</th>\n",
       "      <th>parent_asin</th>\n",
       "      <th>user_id</th>\n",
       "      <th>timestamp</th>\n",
       "      <th>helpful_vote</th>\n",
       "      <th>verified_purchase</th>\n",
       "    </tr>\n",
       "  </thead>\n",
       "  <tbody>\n",
       "    <tr>\n",
       "      <th>0</th>\n",
       "      <td>5.0</td>\n",
       "      <td>Psn</td>\n",
       "      <td>It's easy to get</td>\n",
       "      <td>[]</td>\n",
       "      <td>B07C438TMN</td>\n",
       "      <td>B0BL65X86R</td>\n",
       "      <td>AH33AGJBFAEXTDOSAVJJZ4VKGKUA</td>\n",
       "      <td>1540617189607</td>\n",
       "      <td>0</td>\n",
       "      <td>True</td>\n",
       "    </tr>\n",
       "    <tr>\n",
       "      <th>1</th>\n",
       "      <td>5.0</td>\n",
       "      <td>Exactly as stated. Fast delivery.</td>\n",
       "      <td>What can I say? It works like it says.</td>\n",
       "      <td>[]</td>\n",
       "      <td>B07C438TMN</td>\n",
       "      <td>B0BL65X86R</td>\n",
       "      <td>AGLKQGH3SYKNUC2X7XFGUDTPII7Q</td>\n",
       "      <td>1540327794804</td>\n",
       "      <td>0</td>\n",
       "      <td>True</td>\n",
       "    </tr>\n",
       "    <tr>\n",
       "      <th>2</th>\n",
       "      <td>5.0</td>\n",
       "      <td>Great!!</td>\n",
       "      <td>Code arrived immediately and was as described.</td>\n",
       "      <td>[]</td>\n",
       "      <td>B00GAC1D2G</td>\n",
       "      <td>B0BL65X86R</td>\n",
       "      <td>AHIQ5Y33MRXSBQ7PVLJANZDZOTRQ</td>\n",
       "      <td>1455529277000</td>\n",
       "      <td>0</td>\n",
       "      <td>True</td>\n",
       "    </tr>\n",
       "    <tr>\n",
       "      <th>3</th>\n",
       "      <td>5.0</td>\n",
       "      <td>Instant purchase</td>\n",
       "      <td>I bought this for my cousin. One, two, three, ...</td>\n",
       "      <td>[]</td>\n",
       "      <td>B004RMK4P8</td>\n",
       "      <td>B0BL65X86R</td>\n",
       "      <td>AEHM3SNZYPQT72AV2L3KF2SQ6E2A</td>\n",
       "      <td>1421792708000</td>\n",
       "      <td>0</td>\n",
       "      <td>True</td>\n",
       "    </tr>\n",
       "    <tr>\n",
       "      <th>4</th>\n",
       "      <td>5.0</td>\n",
       "      <td>Would recommend</td>\n",
       "      <td>I've bought several over the years. Never a pr...</td>\n",
       "      <td>[]</td>\n",
       "      <td>B00GAC1D2G</td>\n",
       "      <td>B0BL65X86R</td>\n",
       "      <td>AGGIGLFPUQ65VNWOO2V7GH7USZ2Q</td>\n",
       "      <td>1514174841697</td>\n",
       "      <td>0</td>\n",
       "      <td>False</td>\n",
       "    </tr>\n",
       "  </tbody>\n",
       "</table>\n",
       "</div>"
      ],
      "text/plain": [
       "   rating                              title  \\\n",
       "0     5.0                                Psn   \n",
       "1     5.0  Exactly as stated. Fast delivery.   \n",
       "2     5.0                            Great!!   \n",
       "3     5.0                   Instant purchase   \n",
       "4     5.0                    Would recommend   \n",
       "\n",
       "                                                text images        asin  \\\n",
       "0                                   It's easy to get     []  B07C438TMN   \n",
       "1             What can I say? It works like it says.     []  B07C438TMN   \n",
       "2     Code arrived immediately and was as described.     []  B00GAC1D2G   \n",
       "3  I bought this for my cousin. One, two, three, ...     []  B004RMK4P8   \n",
       "4  I've bought several over the years. Never a pr...     []  B00GAC1D2G   \n",
       "\n",
       "  parent_asin                       user_id      timestamp  helpful_vote  \\\n",
       "0  B0BL65X86R  AH33AGJBFAEXTDOSAVJJZ4VKGKUA  1540617189607             0   \n",
       "1  B0BL65X86R  AGLKQGH3SYKNUC2X7XFGUDTPII7Q  1540327794804             0   \n",
       "2  B0BL65X86R  AHIQ5Y33MRXSBQ7PVLJANZDZOTRQ  1455529277000             0   \n",
       "3  B0BL65X86R  AEHM3SNZYPQT72AV2L3KF2SQ6E2A  1421792708000             0   \n",
       "4  B0BL65X86R  AGGIGLFPUQ65VNWOO2V7GH7USZ2Q  1514174841697             0   \n",
       "\n",
       "   verified_purchase  \n",
       "0               True  \n",
       "1               True  \n",
       "2               True  \n",
       "3               True  \n",
       "4              False  "
      ]
     },
     "execution_count": 82,
     "metadata": {},
     "output_type": "execute_result"
    }
   ],
   "source": [
    "filtered_data = pd.DataFrame(data = filtered_data)\n",
    "filtered_data.head()"
   ]
  },
  {
   "cell_type": "code",
   "execution_count": 83,
   "metadata": {},
   "outputs": [
    {
     "data": {
      "text/plain": [
       "images\n",
       "0    573\n",
       "1      2\n",
       "2      1\n",
       "Name: count, dtype: int64"
      ]
     },
     "execution_count": 83,
     "metadata": {},
     "output_type": "execute_result"
    }
   ],
   "source": [
    "# analysisng images because the key is duplicated\n",
    "filtered_data.images.apply(len).value_counts()"
   ]
  },
  {
   "cell_type": "code",
   "execution_count": 84,
   "metadata": {},
   "outputs": [],
   "source": [
    "# We will keep it with the same format as images for meta data\n",
    "filtered_data.images = filtered_data.images.apply(len)\n",
    "# Fixing Tiemstamp format\n",
    "filtered_data.timestamp = filtered_data.timestamp.apply(lambda timestamp : pd.to_datetime(timestamp, errors='coerce', unit='ms') )"
   ]
  },
  {
   "cell_type": "code",
   "execution_count": 85,
   "metadata": {},
   "outputs": [
    {
     "name": "stdout",
     "output_type": "stream",
     "text": [
      "(576, 17)\n"
     ]
    },
    {
     "data": {
      "text/html": [
       "<div>\n",
       "<style scoped>\n",
       "    .dataframe tbody tr th:only-of-type {\n",
       "        vertical-align: middle;\n",
       "    }\n",
       "\n",
       "    .dataframe tbody tr th {\n",
       "        vertical-align: top;\n",
       "    }\n",
       "\n",
       "    .dataframe thead th {\n",
       "        text-align: right;\n",
       "    }\n",
       "</style>\n",
       "<table border=\"1\" class=\"dataframe\">\n",
       "  <thead>\n",
       "    <tr style=\"text-align: right;\">\n",
       "      <th></th>\n",
       "      <th>rating</th>\n",
       "      <th>title_x</th>\n",
       "      <th>text</th>\n",
       "      <th>images_by_user</th>\n",
       "      <th>asin</th>\n",
       "      <th>parent_asin</th>\n",
       "      <th>user_id</th>\n",
       "      <th>timestamp</th>\n",
       "      <th>helpful_vote</th>\n",
       "      <th>verified_purchase</th>\n",
       "      <th>main_category</th>\n",
       "      <th>title_y</th>\n",
       "      <th>average_rating</th>\n",
       "      <th>rating_number</th>\n",
       "      <th>features</th>\n",
       "      <th>images_of_product</th>\n",
       "      <th>store</th>\n",
       "    </tr>\n",
       "  </thead>\n",
       "  <tbody>\n",
       "    <tr>\n",
       "      <th>0</th>\n",
       "      <td>5.0</td>\n",
       "      <td>Psn</td>\n",
       "      <td>It's easy to get</td>\n",
       "      <td>0</td>\n",
       "      <td>B07C438TMN</td>\n",
       "      <td>B0BL65X86R</td>\n",
       "      <td>AH33AGJBFAEXTDOSAVJJZ4VKGKUA</td>\n",
       "      <td>2018-10-27 05:13:09.607</td>\n",
       "      <td>0</td>\n",
       "      <td>True</td>\n",
       "      <td>Video Games</td>\n",
       "      <td>$25 PlayStation Store Gift Card [Digital Code]</td>\n",
       "      <td>4.7</td>\n",
       "      <td>261278</td>\n",
       "      <td>Must be 18+yrs and have an account for PlaySta...</td>\n",
       "      <td>3</td>\n",
       "      <td>PlayStation</td>\n",
       "    </tr>\n",
       "    <tr>\n",
       "      <th>1</th>\n",
       "      <td>5.0</td>\n",
       "      <td>Exactly as stated. Fast delivery.</td>\n",
       "      <td>What can I say? It works like it says.</td>\n",
       "      <td>0</td>\n",
       "      <td>B07C438TMN</td>\n",
       "      <td>B0BL65X86R</td>\n",
       "      <td>AGLKQGH3SYKNUC2X7XFGUDTPII7Q</td>\n",
       "      <td>2018-10-23 20:49:54.804</td>\n",
       "      <td>0</td>\n",
       "      <td>True</td>\n",
       "      <td>Video Games</td>\n",
       "      <td>$25 PlayStation Store Gift Card [Digital Code]</td>\n",
       "      <td>4.7</td>\n",
       "      <td>261278</td>\n",
       "      <td>Must be 18+yrs and have an account for PlaySta...</td>\n",
       "      <td>3</td>\n",
       "      <td>PlayStation</td>\n",
       "    </tr>\n",
       "    <tr>\n",
       "      <th>2</th>\n",
       "      <td>5.0</td>\n",
       "      <td>Great!!</td>\n",
       "      <td>Code arrived immediately and was as described.</td>\n",
       "      <td>0</td>\n",
       "      <td>B00GAC1D2G</td>\n",
       "      <td>B0BL65X86R</td>\n",
       "      <td>AHIQ5Y33MRXSBQ7PVLJANZDZOTRQ</td>\n",
       "      <td>2016-02-15 09:41:17.000</td>\n",
       "      <td>0</td>\n",
       "      <td>True</td>\n",
       "      <td>Video Games</td>\n",
       "      <td>$25 PlayStation Store Gift Card [Digital Code]</td>\n",
       "      <td>4.7</td>\n",
       "      <td>261278</td>\n",
       "      <td>Must be 18+yrs and have an account for PlaySta...</td>\n",
       "      <td>3</td>\n",
       "      <td>PlayStation</td>\n",
       "    </tr>\n",
       "    <tr>\n",
       "      <th>3</th>\n",
       "      <td>5.0</td>\n",
       "      <td>Instant purchase</td>\n",
       "      <td>I bought this for my cousin. One, two, three, ...</td>\n",
       "      <td>0</td>\n",
       "      <td>B004RMK4P8</td>\n",
       "      <td>B0BL65X86R</td>\n",
       "      <td>AEHM3SNZYPQT72AV2L3KF2SQ6E2A</td>\n",
       "      <td>2015-01-20 22:25:08.000</td>\n",
       "      <td>0</td>\n",
       "      <td>True</td>\n",
       "      <td>Video Games</td>\n",
       "      <td>$25 PlayStation Store Gift Card [Digital Code]</td>\n",
       "      <td>4.7</td>\n",
       "      <td>261278</td>\n",
       "      <td>Must be 18+yrs and have an account for PlaySta...</td>\n",
       "      <td>3</td>\n",
       "      <td>PlayStation</td>\n",
       "    </tr>\n",
       "    <tr>\n",
       "      <th>4</th>\n",
       "      <td>5.0</td>\n",
       "      <td>Would recommend</td>\n",
       "      <td>I've bought several over the years. Never a pr...</td>\n",
       "      <td>0</td>\n",
       "      <td>B00GAC1D2G</td>\n",
       "      <td>B0BL65X86R</td>\n",
       "      <td>AGGIGLFPUQ65VNWOO2V7GH7USZ2Q</td>\n",
       "      <td>2017-12-25 04:07:21.697</td>\n",
       "      <td>0</td>\n",
       "      <td>False</td>\n",
       "      <td>Video Games</td>\n",
       "      <td>$25 PlayStation Store Gift Card [Digital Code]</td>\n",
       "      <td>4.7</td>\n",
       "      <td>261278</td>\n",
       "      <td>Must be 18+yrs and have an account for PlaySta...</td>\n",
       "      <td>3</td>\n",
       "      <td>PlayStation</td>\n",
       "    </tr>\n",
       "  </tbody>\n",
       "</table>\n",
       "</div>"
      ],
      "text/plain": [
       "   rating                            title_x  \\\n",
       "0     5.0                                Psn   \n",
       "1     5.0  Exactly as stated. Fast delivery.   \n",
       "2     5.0                            Great!!   \n",
       "3     5.0                   Instant purchase   \n",
       "4     5.0                    Would recommend   \n",
       "\n",
       "                                                text  images_by_user  \\\n",
       "0                                   It's easy to get               0   \n",
       "1             What can I say? It works like it says.               0   \n",
       "2     Code arrived immediately and was as described.               0   \n",
       "3  I bought this for my cousin. One, two, three, ...               0   \n",
       "4  I've bought several over the years. Never a pr...               0   \n",
       "\n",
       "         asin parent_asin                       user_id  \\\n",
       "0  B07C438TMN  B0BL65X86R  AH33AGJBFAEXTDOSAVJJZ4VKGKUA   \n",
       "1  B07C438TMN  B0BL65X86R  AGLKQGH3SYKNUC2X7XFGUDTPII7Q   \n",
       "2  B00GAC1D2G  B0BL65X86R  AHIQ5Y33MRXSBQ7PVLJANZDZOTRQ   \n",
       "3  B004RMK4P8  B0BL65X86R  AEHM3SNZYPQT72AV2L3KF2SQ6E2A   \n",
       "4  B00GAC1D2G  B0BL65X86R  AGGIGLFPUQ65VNWOO2V7GH7USZ2Q   \n",
       "\n",
       "                timestamp  helpful_vote  verified_purchase main_category  \\\n",
       "0 2018-10-27 05:13:09.607             0               True   Video Games   \n",
       "1 2018-10-23 20:49:54.804             0               True   Video Games   \n",
       "2 2016-02-15 09:41:17.000             0               True   Video Games   \n",
       "3 2015-01-20 22:25:08.000             0               True   Video Games   \n",
       "4 2017-12-25 04:07:21.697             0              False   Video Games   \n",
       "\n",
       "                                          title_y  average_rating  \\\n",
       "0  $25 PlayStation Store Gift Card [Digital Code]             4.7   \n",
       "1  $25 PlayStation Store Gift Card [Digital Code]             4.7   \n",
       "2  $25 PlayStation Store Gift Card [Digital Code]             4.7   \n",
       "3  $25 PlayStation Store Gift Card [Digital Code]             4.7   \n",
       "4  $25 PlayStation Store Gift Card [Digital Code]             4.7   \n",
       "\n",
       "   rating_number                                           features  \\\n",
       "0         261278  Must be 18+yrs and have an account for PlaySta...   \n",
       "1         261278  Must be 18+yrs and have an account for PlaySta...   \n",
       "2         261278  Must be 18+yrs and have an account for PlaySta...   \n",
       "3         261278  Must be 18+yrs and have an account for PlaySta...   \n",
       "4         261278  Must be 18+yrs and have an account for PlaySta...   \n",
       "\n",
       "   images_of_product        store  \n",
       "0                  3  PlayStation  \n",
       "1                  3  PlayStation  \n",
       "2                  3  PlayStation  \n",
       "3                  3  PlayStation  \n",
       "4                  3  PlayStation  "
      ]
     },
     "execution_count": 85,
     "metadata": {},
     "output_type": "execute_result"
    }
   ],
   "source": [
    "df_VGames = pd.merge(\n",
    "    filtered_data.rename(columns={'images' : 'images_by_user'}), \n",
    "    df_meta_VGames.rename(columns={'images' : 'images_of_product'}),\n",
    "    on='parent_asin'\n",
    "    )\n",
    "print(df_VGames.shape)\n",
    "df_VGames.head()"
   ]
  },
  {
   "cell_type": "code",
   "execution_count": 96,
   "metadata": {},
   "outputs": [
    {
     "data": {
      "text/html": [
       "<div>\n",
       "<style scoped>\n",
       "    .dataframe tbody tr th:only-of-type {\n",
       "        vertical-align: middle;\n",
       "    }\n",
       "\n",
       "    .dataframe tbody tr th {\n",
       "        vertical-align: top;\n",
       "    }\n",
       "\n",
       "    .dataframe thead th {\n",
       "        text-align: right;\n",
       "    }\n",
       "</style>\n",
       "<table border=\"1\" class=\"dataframe\">\n",
       "  <thead>\n",
       "    <tr style=\"text-align: right;\">\n",
       "      <th></th>\n",
       "      <th>rating</th>\n",
       "      <th>title_x</th>\n",
       "      <th>text</th>\n",
       "      <th>images_by_user</th>\n",
       "      <th>asin</th>\n",
       "      <th>parent_asin</th>\n",
       "      <th>user_id</th>\n",
       "      <th>timestamp</th>\n",
       "      <th>helpful_vote</th>\n",
       "      <th>verified_purchase</th>\n",
       "      <th>main_category</th>\n",
       "      <th>title_y</th>\n",
       "      <th>average_rating</th>\n",
       "      <th>rating_number</th>\n",
       "      <th>features</th>\n",
       "      <th>images_of_product</th>\n",
       "      <th>store</th>\n",
       "    </tr>\n",
       "  </thead>\n",
       "  <tbody>\n",
       "    <tr>\n",
       "      <th>0</th>\n",
       "      <td>5.0</td>\n",
       "      <td>Psn</td>\n",
       "      <td>It's easy to get</td>\n",
       "      <td>0</td>\n",
       "      <td>B07C438TMN</td>\n",
       "      <td>B0BL65X86R</td>\n",
       "      <td>AH33AGJBFAEXTDOSAVJJZ4VKGKUA</td>\n",
       "      <td>2018-10-27 05:13:09.607</td>\n",
       "      <td>0</td>\n",
       "      <td>True</td>\n",
       "      <td>Video Games</td>\n",
       "      <td>$25 PlayStation Store Gift Card [Digital Code]</td>\n",
       "      <td>4.7</td>\n",
       "      <td>261278</td>\n",
       "      <td>Must be 18+yrs and have an account for PlaySta...</td>\n",
       "      <td>3</td>\n",
       "      <td>PlayStation</td>\n",
       "    </tr>\n",
       "    <tr>\n",
       "      <th>1</th>\n",
       "      <td>5.0</td>\n",
       "      <td>Exactly as stated. Fast delivery.</td>\n",
       "      <td>What can I say? It works like it says.</td>\n",
       "      <td>0</td>\n",
       "      <td>B07C438TMN</td>\n",
       "      <td>B0BL65X86R</td>\n",
       "      <td>AGLKQGH3SYKNUC2X7XFGUDTPII7Q</td>\n",
       "      <td>2018-10-23 20:49:54.804</td>\n",
       "      <td>0</td>\n",
       "      <td>True</td>\n",
       "      <td>Video Games</td>\n",
       "      <td>$25 PlayStation Store Gift Card [Digital Code]</td>\n",
       "      <td>4.7</td>\n",
       "      <td>261278</td>\n",
       "      <td>Must be 18+yrs and have an account for PlaySta...</td>\n",
       "      <td>3</td>\n",
       "      <td>PlayStation</td>\n",
       "    </tr>\n",
       "    <tr>\n",
       "      <th>2</th>\n",
       "      <td>5.0</td>\n",
       "      <td>Great!!</td>\n",
       "      <td>Code arrived immediately and was as described.</td>\n",
       "      <td>0</td>\n",
       "      <td>B00GAC1D2G</td>\n",
       "      <td>B0BL65X86R</td>\n",
       "      <td>AHIQ5Y33MRXSBQ7PVLJANZDZOTRQ</td>\n",
       "      <td>2016-02-15 09:41:17.000</td>\n",
       "      <td>0</td>\n",
       "      <td>True</td>\n",
       "      <td>Video Games</td>\n",
       "      <td>$25 PlayStation Store Gift Card [Digital Code]</td>\n",
       "      <td>4.7</td>\n",
       "      <td>261278</td>\n",
       "      <td>Must be 18+yrs and have an account for PlaySta...</td>\n",
       "      <td>3</td>\n",
       "      <td>PlayStation</td>\n",
       "    </tr>\n",
       "    <tr>\n",
       "      <th>3</th>\n",
       "      <td>5.0</td>\n",
       "      <td>Instant purchase</td>\n",
       "      <td>I bought this for my cousin. One, two, three, ...</td>\n",
       "      <td>0</td>\n",
       "      <td>B004RMK4P8</td>\n",
       "      <td>B0BL65X86R</td>\n",
       "      <td>AEHM3SNZYPQT72AV2L3KF2SQ6E2A</td>\n",
       "      <td>2015-01-20 22:25:08.000</td>\n",
       "      <td>0</td>\n",
       "      <td>True</td>\n",
       "      <td>Video Games</td>\n",
       "      <td>$25 PlayStation Store Gift Card [Digital Code]</td>\n",
       "      <td>4.7</td>\n",
       "      <td>261278</td>\n",
       "      <td>Must be 18+yrs and have an account for PlaySta...</td>\n",
       "      <td>3</td>\n",
       "      <td>PlayStation</td>\n",
       "    </tr>\n",
       "    <tr>\n",
       "      <th>4</th>\n",
       "      <td>5.0</td>\n",
       "      <td>Would recommend</td>\n",
       "      <td>I've bought several over the years. Never a pr...</td>\n",
       "      <td>0</td>\n",
       "      <td>B00GAC1D2G</td>\n",
       "      <td>B0BL65X86R</td>\n",
       "      <td>AGGIGLFPUQ65VNWOO2V7GH7USZ2Q</td>\n",
       "      <td>2017-12-25 04:07:21.697</td>\n",
       "      <td>0</td>\n",
       "      <td>False</td>\n",
       "      <td>Video Games</td>\n",
       "      <td>$25 PlayStation Store Gift Card [Digital Code]</td>\n",
       "      <td>4.7</td>\n",
       "      <td>261278</td>\n",
       "      <td>Must be 18+yrs and have an account for PlaySta...</td>\n",
       "      <td>3</td>\n",
       "      <td>PlayStation</td>\n",
       "    </tr>\n",
       "    <tr>\n",
       "      <th>...</th>\n",
       "      <td>...</td>\n",
       "      <td>...</td>\n",
       "      <td>...</td>\n",
       "      <td>...</td>\n",
       "      <td>...</td>\n",
       "      <td>...</td>\n",
       "      <td>...</td>\n",
       "      <td>...</td>\n",
       "      <td>...</td>\n",
       "      <td>...</td>\n",
       "      <td>...</td>\n",
       "      <td>...</td>\n",
       "      <td>...</td>\n",
       "      <td>...</td>\n",
       "      <td>...</td>\n",
       "      <td>...</td>\n",
       "      <td>...</td>\n",
       "    </tr>\n",
       "    <tr>\n",
       "      <th>571</th>\n",
       "      <td>1.0</td>\n",
       "      <td>Code NOT VALID</td>\n",
       "      <td>Just bought a $25 card and playstation says th...</td>\n",
       "      <td>0</td>\n",
       "      <td>B07C438TMN</td>\n",
       "      <td>B0BL65X86R</td>\n",
       "      <td>AGFWG47BDD4J73Z7JZKQXBD26TZA</td>\n",
       "      <td>2018-12-22 20:51:22.966</td>\n",
       "      <td>0</td>\n",
       "      <td>True</td>\n",
       "      <td>Video Games</td>\n",
       "      <td>$25 PlayStation Store Gift Card [Digital Code]</td>\n",
       "      <td>4.7</td>\n",
       "      <td>261278</td>\n",
       "      <td>Must be 18+yrs and have an account for PlaySta...</td>\n",
       "      <td>3</td>\n",
       "      <td>PlayStation</td>\n",
       "    </tr>\n",
       "    <tr>\n",
       "      <th>572</th>\n",
       "      <td>1.0</td>\n",
       "      <td>No</td>\n",
       "      <td>No</td>\n",
       "      <td>0</td>\n",
       "      <td>B07C438TMN</td>\n",
       "      <td>B0BL65X86R</td>\n",
       "      <td>AEJFTKKI5WSMJIXL633PEADGB4CA</td>\n",
       "      <td>2018-10-15 16:44:49.155</td>\n",
       "      <td>0</td>\n",
       "      <td>True</td>\n",
       "      <td>Video Games</td>\n",
       "      <td>$25 PlayStation Store Gift Card [Digital Code]</td>\n",
       "      <td>4.7</td>\n",
       "      <td>261278</td>\n",
       "      <td>Must be 18+yrs and have an account for PlaySta...</td>\n",
       "      <td>3</td>\n",
       "      <td>PlayStation</td>\n",
       "    </tr>\n",
       "    <tr>\n",
       "      <th>573</th>\n",
       "      <td>5.0</td>\n",
       "      <td>Get it now</td>\n",
       "      <td>Instant access,  no running to the store to pu...</td>\n",
       "      <td>0</td>\n",
       "      <td>B07C438TMN</td>\n",
       "      <td>B0BL65X86R</td>\n",
       "      <td>AFEBBZ2PFGDMAUEHLIF2JA7ZAPTQ</td>\n",
       "      <td>2018-12-11 10:19:30.290</td>\n",
       "      <td>0</td>\n",
       "      <td>True</td>\n",
       "      <td>Video Games</td>\n",
       "      <td>$25 PlayStation Store Gift Card [Digital Code]</td>\n",
       "      <td>4.7</td>\n",
       "      <td>261278</td>\n",
       "      <td>Must be 18+yrs and have an account for PlaySta...</td>\n",
       "      <td>3</td>\n",
       "      <td>PlayStation</td>\n",
       "    </tr>\n",
       "    <tr>\n",
       "      <th>574</th>\n",
       "      <td>1.0</td>\n",
       "      <td>None</td>\n",
       "      <td>Can't read my digital code</td>\n",
       "      <td>0</td>\n",
       "      <td>B07C438TMN</td>\n",
       "      <td>B0BL65X86R</td>\n",
       "      <td>AE3TV333UMFY3ZPZVXVGM6DB44PA</td>\n",
       "      <td>2018-10-09 01:29:21.206</td>\n",
       "      <td>0</td>\n",
       "      <td>True</td>\n",
       "      <td>Video Games</td>\n",
       "      <td>$25 PlayStation Store Gift Card [Digital Code]</td>\n",
       "      <td>4.7</td>\n",
       "      <td>261278</td>\n",
       "      <td>Must be 18+yrs and have an account for PlaySta...</td>\n",
       "      <td>3</td>\n",
       "      <td>PlayStation</td>\n",
       "    </tr>\n",
       "    <tr>\n",
       "      <th>575</th>\n",
       "      <td>5.0</td>\n",
       "      <td>Instantáneo</td>\n",
       "      <td>El código fue enviado rapidamente. Lo volveré ...</td>\n",
       "      <td>0</td>\n",
       "      <td>B07C438TMN</td>\n",
       "      <td>B0BL65X86R</td>\n",
       "      <td>AF5U3M4X2BRVF3IHHCMGKARX2JEA</td>\n",
       "      <td>2018-11-02 23:58:54.443</td>\n",
       "      <td>0</td>\n",
       "      <td>True</td>\n",
       "      <td>Video Games</td>\n",
       "      <td>$25 PlayStation Store Gift Card [Digital Code]</td>\n",
       "      <td>4.7</td>\n",
       "      <td>261278</td>\n",
       "      <td>Must be 18+yrs and have an account for PlaySta...</td>\n",
       "      <td>3</td>\n",
       "      <td>PlayStation</td>\n",
       "    </tr>\n",
       "  </tbody>\n",
       "</table>\n",
       "<p>568 rows × 17 columns</p>\n",
       "</div>"
      ],
      "text/plain": [
       "     rating                            title_x  \\\n",
       "0       5.0                                Psn   \n",
       "1       5.0  Exactly as stated. Fast delivery.   \n",
       "2       5.0                            Great!!   \n",
       "3       5.0                   Instant purchase   \n",
       "4       5.0                    Would recommend   \n",
       "..      ...                                ...   \n",
       "571     1.0                     Code NOT VALID   \n",
       "572     1.0                                 No   \n",
       "573     5.0                         Get it now   \n",
       "574     1.0                               None   \n",
       "575     5.0                        Instantáneo   \n",
       "\n",
       "                                                  text  images_by_user  \\\n",
       "0                                     It's easy to get               0   \n",
       "1               What can I say? It works like it says.               0   \n",
       "2       Code arrived immediately and was as described.               0   \n",
       "3    I bought this for my cousin. One, two, three, ...               0   \n",
       "4    I've bought several over the years. Never a pr...               0   \n",
       "..                                                 ...             ...   \n",
       "571  Just bought a $25 card and playstation says th...               0   \n",
       "572                                                 No               0   \n",
       "573  Instant access,  no running to the store to pu...               0   \n",
       "574                         Can't read my digital code               0   \n",
       "575  El código fue enviado rapidamente. Lo volveré ...               0   \n",
       "\n",
       "           asin parent_asin                       user_id  \\\n",
       "0    B07C438TMN  B0BL65X86R  AH33AGJBFAEXTDOSAVJJZ4VKGKUA   \n",
       "1    B07C438TMN  B0BL65X86R  AGLKQGH3SYKNUC2X7XFGUDTPII7Q   \n",
       "2    B00GAC1D2G  B0BL65X86R  AHIQ5Y33MRXSBQ7PVLJANZDZOTRQ   \n",
       "3    B004RMK4P8  B0BL65X86R  AEHM3SNZYPQT72AV2L3KF2SQ6E2A   \n",
       "4    B00GAC1D2G  B0BL65X86R  AGGIGLFPUQ65VNWOO2V7GH7USZ2Q   \n",
       "..          ...         ...                           ...   \n",
       "571  B07C438TMN  B0BL65X86R  AGFWG47BDD4J73Z7JZKQXBD26TZA   \n",
       "572  B07C438TMN  B0BL65X86R  AEJFTKKI5WSMJIXL633PEADGB4CA   \n",
       "573  B07C438TMN  B0BL65X86R  AFEBBZ2PFGDMAUEHLIF2JA7ZAPTQ   \n",
       "574  B07C438TMN  B0BL65X86R  AE3TV333UMFY3ZPZVXVGM6DB44PA   \n",
       "575  B07C438TMN  B0BL65X86R  AF5U3M4X2BRVF3IHHCMGKARX2JEA   \n",
       "\n",
       "                  timestamp  helpful_vote  verified_purchase main_category  \\\n",
       "0   2018-10-27 05:13:09.607             0               True   Video Games   \n",
       "1   2018-10-23 20:49:54.804             0               True   Video Games   \n",
       "2   2016-02-15 09:41:17.000             0               True   Video Games   \n",
       "3   2015-01-20 22:25:08.000             0               True   Video Games   \n",
       "4   2017-12-25 04:07:21.697             0              False   Video Games   \n",
       "..                      ...           ...                ...           ...   \n",
       "571 2018-12-22 20:51:22.966             0               True   Video Games   \n",
       "572 2018-10-15 16:44:49.155             0               True   Video Games   \n",
       "573 2018-12-11 10:19:30.290             0               True   Video Games   \n",
       "574 2018-10-09 01:29:21.206             0               True   Video Games   \n",
       "575 2018-11-02 23:58:54.443             0               True   Video Games   \n",
       "\n",
       "                                            title_y  average_rating  \\\n",
       "0    $25 PlayStation Store Gift Card [Digital Code]             4.7   \n",
       "1    $25 PlayStation Store Gift Card [Digital Code]             4.7   \n",
       "2    $25 PlayStation Store Gift Card [Digital Code]             4.7   \n",
       "3    $25 PlayStation Store Gift Card [Digital Code]             4.7   \n",
       "4    $25 PlayStation Store Gift Card [Digital Code]             4.7   \n",
       "..                                              ...             ...   \n",
       "571  $25 PlayStation Store Gift Card [Digital Code]             4.7   \n",
       "572  $25 PlayStation Store Gift Card [Digital Code]             4.7   \n",
       "573  $25 PlayStation Store Gift Card [Digital Code]             4.7   \n",
       "574  $25 PlayStation Store Gift Card [Digital Code]             4.7   \n",
       "575  $25 PlayStation Store Gift Card [Digital Code]             4.7   \n",
       "\n",
       "     rating_number                                           features  \\\n",
       "0           261278  Must be 18+yrs and have an account for PlaySta...   \n",
       "1           261278  Must be 18+yrs and have an account for PlaySta...   \n",
       "2           261278  Must be 18+yrs and have an account for PlaySta...   \n",
       "3           261278  Must be 18+yrs and have an account for PlaySta...   \n",
       "4           261278  Must be 18+yrs and have an account for PlaySta...   \n",
       "..             ...                                                ...   \n",
       "571         261278  Must be 18+yrs and have an account for PlaySta...   \n",
       "572         261278  Must be 18+yrs and have an account for PlaySta...   \n",
       "573         261278  Must be 18+yrs and have an account for PlaySta...   \n",
       "574         261278  Must be 18+yrs and have an account for PlaySta...   \n",
       "575         261278  Must be 18+yrs and have an account for PlaySta...   \n",
       "\n",
       "     images_of_product        store  \n",
       "0                    3  PlayStation  \n",
       "1                    3  PlayStation  \n",
       "2                    3  PlayStation  \n",
       "3                    3  PlayStation  \n",
       "4                    3  PlayStation  \n",
       "..                 ...          ...  \n",
       "571                  3  PlayStation  \n",
       "572                  3  PlayStation  \n",
       "573                  3  PlayStation  \n",
       "574                  3  PlayStation  \n",
       "575                  3  PlayStation  \n",
       "\n",
       "[568 rows x 17 columns]"
      ]
     },
     "execution_count": 96,
     "metadata": {},
     "output_type": "execute_result"
    }
   ],
   "source": [
    "df_VGames"
   ]
  },
  {
   "cell_type": "code",
   "execution_count": 95,
   "metadata": {},
   "outputs": [],
   "source": [
    "# Removing duplicated lines\n",
    "df_VGames.drop_duplicates(inplace=True)"
   ]
  },
  {
   "cell_type": "code",
   "execution_count": 87,
   "metadata": {},
   "outputs": [],
   "source": [
    "df_VGames.to_csv(\"data/processed_data/processed_VGames.csv\", index=False)"
   ]
  }
 ],
 "metadata": {
  "kernelspec": {
   "display_name": "venv",
   "language": "python",
   "name": "python3"
  },
  "language_info": {
   "codemirror_mode": {
    "name": "ipython",
    "version": 3
   },
   "file_extension": ".py",
   "mimetype": "text/x-python",
   "name": "python",
   "nbconvert_exporter": "python",
   "pygments_lexer": "ipython3",
   "version": "3.9.16"
  }
 },
 "nbformat": 4,
 "nbformat_minor": 2
}
